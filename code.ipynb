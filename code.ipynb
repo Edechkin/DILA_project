{
 "cells": [
  {
   "cell_type": "markdown",
   "id": "06a2916c-3346-44ac-b7e2-3a455cccd4f3",
   "metadata": {
    "tags": []
   },
   "source": [
    "# Data cleaning:"
   ]
  },
  {
   "cell_type": "code",
   "execution_count": 107,
   "id": "1756efff-03ad-41a2-bf34-0fe15f865f4e",
   "metadata": {},
   "outputs": [],
   "source": [
    "import html\n",
    "from bs4 import BeautifulSoup\n",
    "import pandas as pd\n",
    "from unidecode import unidecode\n",
    "data_ACM = pd.read_csv(r'C:\\Users\\eetuj\\OneDrive - TUNI.fi\\DILA\\groupProject\\DILA_project\\ACM.csv')\n",
    "data_DBLP = pd.read_csv(r'C:\\Users\\eetuj\\OneDrive - TUNI.fi\\DILA\\groupProject\\DILA_project\\DBLP2_new.csv')\n",
    "#data_ACM['venue'] = data_ACM['venue'].to_string()"
   ]
  },
  {
   "cell_type": "code",
   "execution_count": 108,
   "id": "891bd26a-c802-4b7e-9549-6b883d384f97",
   "metadata": {},
   "outputs": [
    {
     "data": {
      "text/plain": [
       "0                                    International Conference on Management of Data\n",
       "1                                    International Conference on Management of Data\n",
       "2                                    International Conference on Management of Data\n",
       "3                                    International Conference on Management of Data\n",
       "4                                    International Conference on Management of Data\n",
       "                                           ...                                     \n",
       "2289                                                          Very Large Data Bases\n",
       "2290    The VLDB Journal &mdash; The International Journal on Very Large Data Bases\n",
       "2291                                                          Very Large Data Bases\n",
       "2292                                                              ACM SIGMOD Record\n",
       "2293                                                          Very Large Data Bases\n",
       "Name: venue, Length: 2294, dtype: object"
      ]
     },
     "execution_count": 108,
     "metadata": {},
     "output_type": "execute_result"
    }
   ],
   "source": [
    "data_ACM['venue'].str.strip()"
   ]
  },
  {
   "cell_type": "code",
   "execution_count": 109,
   "id": "e8e24f29-2f3d-49ca-b282-54a9bb65b047",
   "metadata": {},
   "outputs": [],
   "source": [
    "data_ACM.drop_duplicates(subset=['title', 'authors', 'venue', 'year'],inplace=True)\n",
    "data_DBLP.drop_duplicates(subset=['title', 'authors', 'venue', 'year'],inplace=True)"
   ]
  },
  {
   "cell_type": "code",
   "execution_count": 110,
   "id": "ad3ab9ae-3a75-4a7b-826e-9047d6c329a2",
   "metadata": {},
   "outputs": [],
   "source": [
    "data_ACM['authors'] = data_ACM['authors'].apply(lambda x: BeautifulSoup(str(x), \"html.parser\"))"
   ]
  },
  {
   "cell_type": "code",
   "execution_count": 111,
   "id": "92b99e6f-e905-4170-8a36-ca38bc20e5da",
   "metadata": {},
   "outputs": [],
   "source": [
    "#data_ACM['venue'] = data_ACM['venue'].apply(lambda x: BeautifulSoup(str(x), \"html.parser\"))\n",
    "data_ACM['venue'] = data_ACM['venue'].apply(lambda x: html.unescape(x) if isinstance(x, str) else x)"
   ]
  },
  {
   "cell_type": "code",
   "execution_count": 112,
   "id": "6ee08c3c-1b1d-4952-b565-0a1938f7a722",
   "metadata": {},
   "outputs": [],
   "source": [
    "data_ACM['authors'] = data_ACM['authors'].apply(lambda x: unidecode(str(x)))\n",
    "data_DBLP['authors'] = data_DBLP['authors'].apply(lambda x: unidecode(str(x)))"
   ]
  },
  {
   "cell_type": "code",
   "execution_count": 113,
   "id": "bbbb86c0-7cc8-4b3b-80f1-55d16c7d110f",
   "metadata": {},
   "outputs": [],
   "source": [
    "data_ACM['title'] = data_ACM['title'].apply(lambda x: x.upper())\n",
    "data_ACM['authors'] = data_ACM['authors'].apply(lambda x: x.upper())\n",
    "#data_ACM['venue'] = data_ACM['venue'].str.upper()"
   ]
  },
  {
   "cell_type": "code",
   "execution_count": 114,
   "id": "9dd4c878-fc71-4c6e-b43d-542830b3a5c8",
   "metadata": {},
   "outputs": [],
   "source": [
    "data_DBLP['title'] = data_DBLP['title'].apply(lambda x: x.upper())\n",
    "data_DBLP['authors'] = data_DBLP['authors'].apply(lambda x: x.upper())\n",
    "#data_DBLP['venue'] = data_DBLP['venue'].str.upper()"
   ]
  },
  {
   "cell_type": "code",
   "execution_count": 115,
   "id": "05786ae1-b979-491c-87f8-cc1d7e526b21",
   "metadata": {},
   "outputs": [],
   "source": [
    "data_ACM.replace(\"Very Large Data Bases\", \"VLDB\", inplace=True)\n",
    "data_ACM.replace(\"International Conference on Management of Data\", \"SIGMOD Conference\", inplace=True)\n",
    "data_ACM.replace(\"ACM SIGMOD Record \", \"SIGMOD Record\", inplace=True)\n",
    "data_ACM.replace(\"ACM Transactions on Database Systems (TODS) \", \"ACM Trans. Database Syst. \", inplace=True)\n",
    "data_ACM.replace(\"The VLDB Journal — The International Journal on Very Large Data Bases \", \"VLDB J.\", inplace=True)"
   ]
  },
  {
   "cell_type": "code",
   "execution_count": 116,
   "id": "d4e3599a-29c6-4bb0-b4e8-5fb1260b9274",
   "metadata": {},
   "outputs": [],
   "source": [
    "data_ACM.drop_duplicates(subset=['title', 'authors', 'venue', 'year'],inplace=True)\n",
    "data_DBLP.drop_duplicates(subset=['title', 'authors', 'venue', 'year'],inplace=True)"
   ]
  },
  {
   "cell_type": "code",
   "execution_count": 117,
   "id": "8cfa75f9-9c4b-441b-9af9-d62940aac518",
   "metadata": {},
   "outputs": [],
   "source": [
    "data_ACM.to_csv(r'C:\\Users\\eetuj\\OneDrive - TUNI.fi\\DILA\\groupProject\\DILA_project\\ACM3.csv', encoding='utf-8', index=False)\n",
    "data_DBLP.to_csv(r'C:\\Users\\eetuj\\OneDrive - TUNI.fi\\DILA\\groupProject\\DILA_project\\DBLP3.csv', encoding='utf-8', index=False)"
   ]
  },
  {
   "cell_type": "code",
   "execution_count": 118,
   "id": "0d6efa05-6cf0-49e3-9ca5-07ecb4184068",
   "metadata": {},
   "outputs": [
    {
     "name": "stdout",
     "output_type": "stream",
     "text": [
      "       id  \\\n",
      "0  304586   \n",
      "1  304587   \n",
      "2  304589   \n",
      "3  304590   \n",
      "4  304582   \n",
      "5  304583   \n",
      "6  304584   \n",
      "7  304585   \n",
      "8  306112   \n",
      "9  306115   \n",
      "\n",
      "                                                                     title  \\\n",
      "0                     THE WASA2 OBJECT-ORIENTED WORKFLOW MANAGEMENT SYSTEM   \n",
      "1  A USER-CENTERED INTERFACE FOR QUERYING DISTRIBUTED MULTIMEDIA DATABASES   \n",
      "2             WORLD WIDE DATABASE-INTEGRATING THE WEB, CORBA AND DATABASES   \n",
      "3                                 XML-BASED INFORMATION MEDIATION WITH MIX   \n",
      "4                     THE CCUBE CONSTRAINT OBJECT-ORIENTED DATABASE SYSTEM   \n",
      "5                  THE CORNELL JAGUAR PROJECT: ADDING MOBILITY TO PREDATOR   \n",
      "6     THE ACTIVE MULTISYNC CONTROLLER OF THE CUBETREE STORAGE ORGANIZATION   \n",
      "7                                        THE JUNGLE DATABASE SEARCH ENGINE   \n",
      "8            ADEPT: AN AGENT-BASED APPROACH TO BUSINESS PROCESS MANAGEMENT   \n",
      "9              A COMPONENTIZED ARCHITECTURE FOR DYNAMIC ELECTRONIC MARKETS   \n",
      "\n",
      "                                                                                               authors  \\\n",
      "0                                                                      GOTTFRIED VOSSEN, MATHIAS WESKE   \n",
      "1                                                                    ISABEL F. CRUZ, KIMBERLY M. JAMES   \n",
      "2        ATHMAN BOUGUETTAYA, BOUALEM BENATALLAH, LILY HENDRA, JAMES BEARD, KEVIN SMITH, MOURAD QUZZANI   \n",
      "3  CHAITAN BARU, AMARNATH GUPTA, BERTRAM LUDASCHER, RICHARD MARCIANO, YANNIS PAPAKONSTANTINOU, PAVE...   \n",
      "4                                  ALEXANDER BRODSKY, VICTOR E. SEGAL, JIA CHEN, PAVAL A. EXARKHOPOULO   \n",
      "5  PHILLIPPE BONNET, KYLE BUZA, ZHIYUAN CHAN, VICTOR CHENG, RANDOLPH CHUNG, TAKAKO HICKEY, RYAN KEN...   \n",
      "6                                                   NICK ROUSSOPOULOS, YANNIS KOTIDIS, YANNIS SISMANIS   \n",
      "7                                                      MICHAEL BOHLEN, LINAS BUKAUSKAS, CURTIS DYRESON   \n",
      "8                                                             N. R. JENNINGS, T. J. NORMAN, P. FARATIN   \n",
      "9                                                                        BENNY REICH, ISRAEL BEN-SHAUL   \n",
      "\n",
      "               venue  year  \n",
      "0  SIGMOD Conference  1999  \n",
      "1  SIGMOD Conference  1999  \n",
      "2  SIGMOD Conference  1999  \n",
      "3  SIGMOD Conference  1999  \n",
      "4  SIGMOD Conference  1999  \n",
      "5  SIGMOD Conference  1999  \n",
      "6  SIGMOD Conference  1999  \n",
      "7  SIGMOD Conference  1999  \n",
      "8      SIGMOD Record  1998  \n",
      "9      SIGMOD Record  1998  \n",
      "                               id  \\\n",
      "0        journals/sigmod/Mackay99   \n",
      "1            conf/vldb/PoosalaI96   \n",
      "2         conf/vldb/PalpanasSCP02   \n",
      "3          conf/vldb/GardarinGT96   \n",
      "4               conf/vldb/HoelS95   \n",
      "5              conf/sigmod/Keim99   \n",
      "6        journals/sigmod/Ouksel02   \n",
      "7        journals/vldb/Seshadri98   \n",
      "8  journals/sigmod/RamamrithamS97   \n",
      "9      journals/sigmod/DAndreaJ96   \n",
      "\n",
      "                                                                                                 title  \\\n",
      "0  SEMANTIC INTEGRATION OF ENVIRONMENTAL MODELS FOR APPLICATION TO GLOBAL INFORMATION SYSTEMS AND D...   \n",
      "1          ESTIMATION OF QUERY-RESULT DISTRIBUTION AND ITS APPLICATION IN PARALLEL-JOIN LOAD BALANCING   \n",
      "2                                     INCREMENTAL MAINTENANCE FOR NON-DISTRIBUTIVE AGGREGATE FUNCTIONS   \n",
      "3           COST-BASED SELECTION OF PATH EXPRESSION PROCESSING ALGORITHMS IN OBJECT-ORIENTED DATABASES   \n",
      "4                                             BENCHMARKING SPATIAL JOIN OPERATIONS WITH SPATIAL OUTPUT   \n",
      "5                                   EFFICIENT GEOMETRY-BASED SIMILARITY SEARCH OF 3D SPATIAL DATABASES   \n",
      "6                              MINING THE WORLD WIDE WEB: AN INFORMATION SEARCH APPROACH - BOOK REVIEW   \n",
      "7                                          ENHANCED ABSTRACT DATA TYPES IN OBJECT-RELATIONAL DATABASES   \n",
      "8                         REPORT ON DART '96: DATABASES: ACTIVE AND REAL-TIME (CONCEPTS MEET PRACTICE)   \n",
      "9                                UNISQL'S NEXT-GENERATION OBJECT-RELATIONAL DATABASE MANAGEMENT SYSTEM   \n",
      "\n",
      "                                                                  authors  \\\n",
      "0                                                         D. SCOTT MACKAY   \n",
      "1                                  VISWANATH POOSALA, YANNIS E. IOANNIDIS   \n",
      "2  THEMISTOKLIS PALPANAS, RICHARD SIDLE, HAMID PIRAHESH, ROBERTA COCHRANE   \n",
      "3                     ZHAO-HUI TANG, GEORGES GARDARIN, JEAN-ROBERT GRUSER   \n",
      "4                                               ERIK G. HOEL, HANAN SAMET   \n",
      "5                                                          DANIEL A. KEIM   \n",
      "6                                                          ARIS M. OUKSEL   \n",
      "7                                                        PRAVEEN SESHADRI   \n",
      "8                                     NANDIT SOPARKAR, KRITHI RAMAMRITHAM   \n",
      "9                                             PHIL JANUS, ALBERT D'ANDREA   \n",
      "\n",
      "               venue  year  \n",
      "0      SIGMOD Record  1999  \n",
      "1               VLDB  1996  \n",
      "2               VLDB  2002  \n",
      "3               VLDB  1996  \n",
      "4               VLDB  1995  \n",
      "5  SIGMOD Conference  1999  \n",
      "6      SIGMOD Record  2002  \n",
      "7            VLDB J.  1998  \n",
      "8      SIGMOD Record  1997  \n",
      "9      SIGMOD Record  1996  \n"
     ]
    }
   ],
   "source": [
    "print(data_ACM.head(10))\n",
    "print(data_DBLP.head(10))"
   ]
  },
  {
   "cell_type": "code",
   "execution_count": 119,
   "id": "d2475529-9a00-4ec9-8531-8d1238428e3b",
   "metadata": {},
   "outputs": [],
   "source": [
    "#data_ACM['venue'] = data_ACM['venue'].to_string()"
   ]
  },
  {
   "cell_type": "code",
   "execution_count": 120,
   "id": "3bd3ee7f-648b-4962-a95f-43638b10e72a",
   "metadata": {},
   "outputs": [],
   "source": [
    "#for col in data_ACM.columns:\n",
    "#   data_ACM[col] = data_ACM[col].apply(lambda x: html.unescape(x) if isinstance(x, str) else x)"
   ]
  },
  {
   "cell_type": "code",
   "execution_count": 121,
   "id": "f11c8c24-c851-4509-9d51-28f46c41c8eb",
   "metadata": {},
   "outputs": [],
   "source": [
    "#data_ACM.title.str.lstrip()\n",
    "#data_ACM.authors.str.lstrip()\n",
    "#data_ACM.venue.str.lstrip()\n",
    "#print(data_ACM.loc[2160, 'venue'])\n",
    "#print(data_ACM.dtypes)"
   ]
  },
  {
   "cell_type": "code",
   "execution_count": 122,
   "id": "df288fa8-aded-4501-9a90-c2560e389fe7",
   "metadata": {},
   "outputs": [],
   "source": [
    "#data_ACM.drop_duplicates(subset=['title', 'authors', 'venue', 'year'],inplace=True)\n",
    "#data_DBLP.drop_duplicates(subset=['title', 'authors', 'venue', 'year'],inplace=True)"
   ]
  },
  {
   "cell_type": "code",
   "execution_count": 123,
   "id": "587a2eb5-1245-425b-bc3b-a7a5276315f0",
   "metadata": {},
   "outputs": [],
   "source": [
    "#d2['authors'] = data_ACM.apply(lambda x : x.split(\",\"))\n",
    "#for i, row in data_ACM.iterrows():\n",
    " #   data_ACM.at[i, 'authors'] = data_ACM.at[i, 'authors'].split(\",\")\n",
    "#data_ACM['authors'] = data_ACM['authors'].str.split(\", \")\n",
    "#data_ACM['authors'] = data_ACM['authors'].str.split(\" \")"
   ]
  },
  {
   "cell_type": "code",
   "execution_count": 124,
   "id": "afae02c9-02c4-4fb7-9dd5-0cba1ac462fa",
   "metadata": {},
   "outputs": [],
   "source": [
    "#html_data=unicodedata.normalize('NFKD',table.to_html()).encode('ascii','ignore')"
   ]
  },
  {
   "cell_type": "markdown",
   "id": "fc544e30-7d66-4750-9d52-fd0241b58880",
   "metadata": {},
   "source": [
    "# Blocking:"
   ]
  },
  {
   "cell_type": "code",
   "execution_count": 125,
   "id": "38a9f32c-2ae4-43c5-95a4-051579ee3c7d",
   "metadata": {},
   "outputs": [
    {
     "name": "stderr",
     "output_type": "stream",
     "text": [
      "File already exists at C:\\Users\\eetuj\\OneDrive - TUNI.fi\\DILA\\groupProject\\DILA_project\\ACM3_meta.csv; Overwriting it\n",
      "Metadata file already exists at C:\\Users\\eetuj\\OneDrive - TUNI.fi\\DILA\\groupProject\\DILA_project\\ACM3_meta.metadata. Overwriting it\n",
      "File already exists at C:\\Users\\eetuj\\OneDrive - TUNI.fi\\DILA\\groupProject\\DILA_project\\DBLP3_meta.csv; Overwriting it\n",
      "Metadata file already exists at C:\\Users\\eetuj\\OneDrive - TUNI.fi\\DILA\\groupProject\\DILA_project\\DBLP3_meta.metadata. Overwriting it\n"
     ]
    },
    {
     "data": {
      "text/plain": [
       "True"
      ]
     },
     "execution_count": 125,
     "metadata": {},
     "output_type": "execute_result"
    }
   ],
   "source": [
    "import py_entitymatching as em\n",
    "em.set_key(data_ACM, 'id')\n",
    "em.set_key(data_DBLP, 'id')\n",
    "em.to_csv_metadata(data_ACM, r'C:\\Users\\eetuj\\OneDrive - TUNI.fi\\DILA\\groupProject\\DILA_project\\ACM3_meta.csv')\n",
    "em.to_csv_metadata(data_ACM, r'C:\\Users\\eetuj\\OneDrive - TUNI.fi\\DILA\\groupProject\\DILA_project\\DBLP3_meta.csv')"
   ]
  },
  {
   "cell_type": "code",
   "execution_count": 126,
   "id": "4578647f-27f0-40e4-aa95-837b7f1edd75",
   "metadata": {},
   "outputs": [],
   "source": [
    "ACM = em.read_csv_metadata(r'C:\\Users\\eetuj\\OneDrive - TUNI.fi\\DILA\\groupProject\\DILA_project\\ACM3_meta.csv', key='id')\n",
    "DBLP = em.read_csv_metadata(r'C:\\Users\\eetuj\\OneDrive - TUNI.fi\\DILA\\groupProject\\DILA_project\\DBLP3_meta.csv', key='id')"
   ]
  },
  {
   "cell_type": "code",
   "execution_count": 127,
   "id": "9c6d62dc-d496-410c-ad70-a143491916a0",
   "metadata": {},
   "outputs": [],
   "source": [
    "b1 = em.AttrEquivalenceBlocker() # , 'title', 'authors', 'venue', 'year'"
   ]
  },
  {
   "cell_type": "code",
   "execution_count": 128,
   "id": "c2128663-3dda-4aad-9abd-96e2bafc4b21",
   "metadata": {},
   "outputs": [
    {
     "name": "stderr",
     "output_type": "stream",
     "text": [
      "C:\\Users\\eetuj\\anaconda3\\lib\\site-packages\\py_entitymatching\\blocker\\attr_equiv_blocker.py:435: SettingWithCopyWarning: \n",
      "A value is trying to be set on a copy of a slice from a DataFrame.\n",
      "Try using .loc[row_indexer,col_indexer] = value instead\n",
      "\n",
      "See the caveats in the documentation: https://pandas.pydata.org/pandas-docs/stable/user_guide/indexing.html#returning-a-view-versus-a-copy\n",
      "  l_df['ones'] = np.ones(len(l_df))\n",
      "C:\\Users\\eetuj\\anaconda3\\lib\\site-packages\\py_entitymatching\\blocker\\attr_equiv_blocker.py:436: SettingWithCopyWarning: \n",
      "A value is trying to be set on a copy of a slice from a DataFrame.\n",
      "Try using .loc[row_indexer,col_indexer] = value instead\n",
      "\n",
      "See the caveats in the documentation: https://pandas.pydata.org/pandas-docs/stable/user_guide/indexing.html#returning-a-view-versus-a-copy\n",
      "  r_df['ones'] = np.ones(len(r_df))\n"
     ]
    }
   ],
   "source": [
    "C1 = b1.block_tables(ACM, DBLP, 'title', 'title', \n",
    "     l_output_attrs=['title', 'authors', 'venue', 'year'], \n",
    "     r_output_attrs=['title', 'authors', 'venue', 'year'], allow_missing=True)"
   ]
  },
  {
   "cell_type": "code",
   "execution_count": 129,
   "id": "f148bf4f-be6d-41cf-a669-8e5d51ad443f",
   "metadata": {},
   "outputs": [
    {
     "name": "stdout",
     "output_type": "stream",
     "text": [
      "       _id  ltable_id  rtable_id  \\\n",
      "0        0     304586     304586   \n",
      "1        1     304587     304587   \n",
      "2        2     304589     304589   \n",
      "3        3     304590     304590   \n",
      "4        4     304582     304582   \n",
      "...    ...        ...        ...   \n",
      "2472  2472     950483     950483   \n",
      "2473  2473     672977     672977   \n",
      "2474  2474     672980     672980   \n",
      "2475  2475     945741     945741   \n",
      "2476  2476     672979     672979   \n",
      "\n",
      "                                                                                             ltable_title  \\\n",
      "0                                                    THE WASA2 OBJECT-ORIENTED WORKFLOW MANAGEMENT SYSTEM   \n",
      "1                                 A USER-CENTERED INTERFACE FOR QUERYING DISTRIBUTED MULTIMEDIA DATABASES   \n",
      "2                                            WORLD WIDE DATABASE-INTEGRATING THE WEB, CORBA AND DATABASES   \n",
      "3                                                                XML-BASED INFORMATION MEDIATION WITH MIX   \n",
      "4                                                    THE CCUBE CONSTRAINT OBJECT-ORIENTED DATABASE SYSTEM   \n",
      "...                                                                                                   ...   \n",
      "2472                                                                         A CASE FOR FRACTURED MIRRORS   \n",
      "2473                                                            DUAL-BUFFERING STRATEGIES IN OBJECT BASES   \n",
      "2474                                                   GRAPHDB: MODELING AND QUERYING GRAPHS IN DATABASES   \n",
      "2475  REVIEW OF THE DATA WAREHOUSE TOOLKIT: THE COMPLETE GUIDE TO DIMENSIONAL MODELING (2ND EDITION) B...   \n",
      "2476                                                       BULK LOADING INTO AN OODB: A PERFORMANCE STUDY   \n",
      "\n",
      "                                                                                           ltable_authors  \\\n",
      "0                                                                         GOTTFRIED VOSSEN, MATHIAS WESKE   \n",
      "1                                                                       ISABEL F. CRUZ, KIMBERLY M. JAMES   \n",
      "2           ATHMAN BOUGUETTAYA, BOUALEM BENATALLAH, LILY HENDRA, JAMES BEARD, KEVIN SMITH, MOURAD QUZZANI   \n",
      "3     CHAITAN BARU, AMARNATH GUPTA, BERTRAM LUDASCHER, RICHARD MARCIANO, YANNIS PAPAKONSTANTINOU, PAVE...   \n",
      "4                                     ALEXANDER BRODSKY, VICTOR E. SEGAL, JIA CHEN, PAVAL A. EXARKHOPOULO   \n",
      "...                                                                                                   ...   \n",
      "2472                                                       RAVISHANKAR RAMAMURTHY, DAVID J. DEWITT, QI SU   \n",
      "2473                                                                       ALFONS KEMPER, DONALD KOSSMANN   \n",
      "2474                                                                                  RALF HARTMUT GUTING   \n",
      "2475                                                                                ALEXANDER A. ANISIMOV   \n",
      "2476                                                                 JANET L. WIENER, JEFFREY F. NAUGHTON   \n",
      "\n",
      "           ltable_venue  ltable_year  \\\n",
      "0     SIGMOD Conference         1999   \n",
      "1     SIGMOD Conference         1999   \n",
      "2     SIGMOD Conference         1999   \n",
      "3     SIGMOD Conference         1999   \n",
      "4     SIGMOD Conference         1999   \n",
      "...                 ...          ...   \n",
      "2472            VLDB J.         2003   \n",
      "2473               VLDB         1994   \n",
      "2474               VLDB         1994   \n",
      "2475      SIGMOD Record         2003   \n",
      "2476               VLDB         1994   \n",
      "\n",
      "                                                                                             rtable_title  \\\n",
      "0                                                    THE WASA2 OBJECT-ORIENTED WORKFLOW MANAGEMENT SYSTEM   \n",
      "1                                 A USER-CENTERED INTERFACE FOR QUERYING DISTRIBUTED MULTIMEDIA DATABASES   \n",
      "2                                            WORLD WIDE DATABASE-INTEGRATING THE WEB, CORBA AND DATABASES   \n",
      "3                                                                XML-BASED INFORMATION MEDIATION WITH MIX   \n",
      "4                                                    THE CCUBE CONSTRAINT OBJECT-ORIENTED DATABASE SYSTEM   \n",
      "...                                                                                                   ...   \n",
      "2472                                                                         A CASE FOR FRACTURED MIRRORS   \n",
      "2473                                                            DUAL-BUFFERING STRATEGIES IN OBJECT BASES   \n",
      "2474                                                   GRAPHDB: MODELING AND QUERYING GRAPHS IN DATABASES   \n",
      "2475  REVIEW OF THE DATA WAREHOUSE TOOLKIT: THE COMPLETE GUIDE TO DIMENSIONAL MODELING (2ND EDITION) B...   \n",
      "2476                                                       BULK LOADING INTO AN OODB: A PERFORMANCE STUDY   \n",
      "\n",
      "                                                                                           rtable_authors  \\\n",
      "0                                                                         GOTTFRIED VOSSEN, MATHIAS WESKE   \n",
      "1                                                                       ISABEL F. CRUZ, KIMBERLY M. JAMES   \n",
      "2           ATHMAN BOUGUETTAYA, BOUALEM BENATALLAH, LILY HENDRA, JAMES BEARD, KEVIN SMITH, MOURAD QUZZANI   \n",
      "3     CHAITAN BARU, AMARNATH GUPTA, BERTRAM LUDASCHER, RICHARD MARCIANO, YANNIS PAPAKONSTANTINOU, PAVE...   \n",
      "4                                     ALEXANDER BRODSKY, VICTOR E. SEGAL, JIA CHEN, PAVAL A. EXARKHOPOULO   \n",
      "...                                                                                                   ...   \n",
      "2472                                                       RAVISHANKAR RAMAMURTHY, DAVID J. DEWITT, QI SU   \n",
      "2473                                                                       ALFONS KEMPER, DONALD KOSSMANN   \n",
      "2474                                                                                  RALF HARTMUT GUTING   \n",
      "2475                                                                                ALEXANDER A. ANISIMOV   \n",
      "2476                                                                 JANET L. WIENER, JEFFREY F. NAUGHTON   \n",
      "\n",
      "           rtable_venue  rtable_year  \n",
      "0     SIGMOD Conference         1999  \n",
      "1     SIGMOD Conference         1999  \n",
      "2     SIGMOD Conference         1999  \n",
      "3     SIGMOD Conference         1999  \n",
      "4     SIGMOD Conference         1999  \n",
      "...                 ...          ...  \n",
      "2472            VLDB J.         2003  \n",
      "2473               VLDB         1994  \n",
      "2474               VLDB         1994  \n",
      "2475      SIGMOD Record         2003  \n",
      "2476               VLDB         1994  \n",
      "\n",
      "[2477 rows x 11 columns]\n"
     ]
    }
   ],
   "source": [
    "print(C1)"
   ]
  },
  {
   "cell_type": "code",
   "execution_count": 130,
   "id": "6ed91ab9-9749-4f2d-828d-cf1cb0aef442",
   "metadata": {},
   "outputs": [],
   "source": [
    "C1.to_csv(r'C:\\Users\\eetuj\\OneDrive - TUNI.fi\\DILA\\groupProject\\DILA_project\\C1.csv', encoding='utf-8', index=False)"
   ]
  },
  {
   "cell_type": "code",
   "execution_count": 134,
   "id": "2bd9048a-18bd-44bc-b531-3edae6cccdc1",
   "metadata": {},
   "outputs": [],
   "source": [
    "dfA =C1[['ltable_id', 'ltable_authors', 'ltable_title', 'ltable_venue', 'ltable_year']].copy()\n",
    "#['ltable_id', 'ltable_authors', 'ltable_title', 'ltable_venue', 'ltable_year']\n",
    "dfB = C1[['rtable_id', 'rtable_authors', 'rtable_title', 'rtable_venue', 'rtable_year']].copy()\n",
    "#['rtable_id', 'rtable_authors', 'rtable_title', 'rtable_venue', 'rtable_year']"
   ]
  },
  {
   "cell_type": "code",
   "execution_count": 136,
   "id": "c27d6163-c1e4-4683-865b-ae016bd98781",
   "metadata": {},
   "outputs": [],
   "source": [
    "x = C1.groupby('ltable_title')"
   ]
  },
  {
   "cell_type": "code",
   "execution_count": 137,
   "id": "4f52d061-75ba-4a52-880d-b0fae4c181ff",
   "metadata": {},
   "outputs": [
    {
     "name": "stdout",
     "output_type": "stream",
     "text": [
      "<pandas.core.groupby.generic.DataFrameGroupBy object at 0x0000025627F8F8E0>\n"
     ]
    }
   ],
   "source": [
    "print(x)"
   ]
  },
  {
   "cell_type": "code",
   "execution_count": 191,
   "id": "ba719acd-10de-4d9b-af39-922d668bd269",
   "metadata": {},
   "outputs": [],
   "source": [
    "stacked = pd.concat([data_ACM, data_DBLP], keys= ['ACM', 'DBLP'], ignore_index=True)\n",
    "#dfA_title = ACM.groupby('title')\n",
    "#dfB_title = DBLP.groupby('title')"
   ]
  },
  {
   "cell_type": "code",
   "execution_count": 192,
   "id": "1c42cb5b-e179-43c1-89dd-0b3179c6259f",
   "metadata": {},
   "outputs": [],
   "source": [
    "stacked.to_csv(r'C:\\Users\\eetuj\\OneDrive - TUNI.fi\\DILA\\groupProject\\DILA_project\\stacked.csv', encoding='utf-8', index=False)"
   ]
  },
  {
   "cell_type": "code",
   "execution_count": 193,
   "id": "bd8a28ce-14c3-4574-97b6-ffb4b620ca6a",
   "metadata": {},
   "outputs": [],
   "source": [
    "grouped = stacked.groupby('title')"
   ]
  },
  {
   "cell_type": "code",
   "execution_count": 194,
   "id": "470eed8c-a7e3-4d60-b409-df32af6b54c7",
   "metadata": {},
   "outputs": [
    {
     "name": "stdout",
     "output_type": "stream",
     "text": [
      "2791\n"
     ]
    }
   ],
   "source": [
    "print(len(stacked.groupby('title')))"
   ]
  },
  {
   "cell_type": "code",
   "execution_count": 195,
   "id": "45cb34ab-4022-4bca-a476-0a169e44ad6a",
   "metadata": {},
   "outputs": [
    {
     "name": "stdout",
     "output_type": "stream",
     "text": [
      "4847\n"
     ]
    }
   ],
   "source": [
    "print(len(stacked))"
   ]
  },
  {
   "cell_type": "code",
   "execution_count": 196,
   "id": "30aa2f08-bd57-436a-acf4-9d92d8c3b348",
   "metadata": {},
   "outputs": [],
   "source": [
    "abc = pd.DataFrame(columns=['idDBLP', 'idACM'])"
   ]
  },
  {
   "cell_type": "code",
   "execution_count": 203,
   "id": "9a80b75f-49ff-4990-a95c-a7cc8efff6c0",
   "metadata": {},
   "outputs": [],
   "source": [
    "sum=0\n",
    "grouped.size()\n",
    "for key, item in grouped:\n",
    "    g = grouped.get_group(key)\n",
    "    if g.size == 10:\n",
    "        abc = abc.append({'idDBLP' : g.get('id').iloc[1], 'idACM' : g.get('id').iloc[0]}, ignore_index=True)\n",
    "        #print(g.get('id').iloc[1])\n",
    "        \n"
   ]
  },
  {
   "cell_type": "code",
   "execution_count": 204,
   "id": "79094879-2f48-4e0e-9297-fce3d7304272",
   "metadata": {},
   "outputs": [
    {
     "name": "stdout",
     "output_type": "stream",
     "text": [
      "                         idDBLP   idACM\n",
      "0     conf/vldb/HumborstadSHT97  671000\n",
      "1          conf/vldb/JohnsonS94  672996\n",
      "2       journals/sigmod/CoxEH96  245901\n",
      "3       conf/sigmod/LahiriJJC98  276366\n",
      "4          conf/vldb/DeenJNNW00  671702\n",
      "5    journals/vldb/VerykiosME03  775455\n",
      "6  journals/sigmod/LaenderRST02  565137\n",
      "7      journals/tods/KotidisR01  503100\n",
      "8    journals/sigmod/KeetonPH98  290602\n",
      "9           conf/vldb/PantiSG00  671693\n"
     ]
    }
   ],
   "source": [
    "print(abc.head(10))"
   ]
  },
  {
   "cell_type": "code",
   "execution_count": 218,
   "id": "17820951-b6f1-4826-a8e6-0b2a357e1338",
   "metadata": {},
   "outputs": [],
   "source": [
    "abc2 = abc['idACM'].apply(lambda x : str(x))"
   ]
  },
  {
   "cell_type": "code",
   "execution_count": 219,
   "id": "901171e2-0ee1-43e9-8b11-e3780c361679",
   "metadata": {},
   "outputs": [],
   "source": [
    "abc2 = abc['idDBLP'].apply(lambda x : str(x))"
   ]
  },
  {
   "cell_type": "code",
   "execution_count": 222,
   "id": "45907bc3-1732-462b-8c90-b8ddd16366e5",
   "metadata": {},
   "outputs": [
    {
     "name": "stderr",
     "output_type": "stream",
     "text": [
      "C:\\Users\\eetuj\\AppData\\Local\\Temp/ipykernel_10564/3797657504.py:1: FutureWarning: In a future version of pandas all arguments of Series.sort_values will be keyword-only\n",
      "  abc2.sort_values('idDBLP')\n"
     ]
    },
    {
     "ename": "ValueError",
     "evalue": "No axis named idDBLP for object type Series",
     "output_type": "error",
     "traceback": [
      "\u001b[1;31m---------------------------------------------------------------------------\u001b[0m",
      "\u001b[1;31mKeyError\u001b[0m                                  Traceback (most recent call last)",
      "\u001b[1;32m~\\anaconda3\\lib\\site-packages\\pandas\\core\\generic.py\u001b[0m in \u001b[0;36m_get_axis_number\u001b[1;34m(cls, axis)\u001b[0m\n\u001b[0;32m    545\u001b[0m         \u001b[1;32mtry\u001b[0m\u001b[1;33m:\u001b[0m\u001b[1;33m\u001b[0m\u001b[1;33m\u001b[0m\u001b[0m\n\u001b[1;32m--> 546\u001b[1;33m             \u001b[1;32mreturn\u001b[0m \u001b[0mcls\u001b[0m\u001b[1;33m.\u001b[0m\u001b[0m_AXIS_TO_AXIS_NUMBER\u001b[0m\u001b[1;33m[\u001b[0m\u001b[0maxis\u001b[0m\u001b[1;33m]\u001b[0m\u001b[1;33m\u001b[0m\u001b[1;33m\u001b[0m\u001b[0m\n\u001b[0m\u001b[0;32m    547\u001b[0m         \u001b[1;32mexcept\u001b[0m \u001b[0mKeyError\u001b[0m\u001b[1;33m:\u001b[0m\u001b[1;33m\u001b[0m\u001b[1;33m\u001b[0m\u001b[0m\n",
      "\u001b[1;31mKeyError\u001b[0m: 'idDBLP'",
      "\nDuring handling of the above exception, another exception occurred:\n",
      "\u001b[1;31mValueError\u001b[0m                                Traceback (most recent call last)",
      "\u001b[1;32m~\\AppData\\Local\\Temp/ipykernel_10564/3797657504.py\u001b[0m in \u001b[0;36m<module>\u001b[1;34m\u001b[0m\n\u001b[1;32m----> 1\u001b[1;33m \u001b[0mabc2\u001b[0m\u001b[1;33m.\u001b[0m\u001b[0msort_values\u001b[0m\u001b[1;33m(\u001b[0m\u001b[1;34m'idDBLP'\u001b[0m\u001b[1;33m)\u001b[0m\u001b[1;33m\u001b[0m\u001b[1;33m\u001b[0m\u001b[0m\n\u001b[0m",
      "\u001b[1;32m~\\anaconda3\\lib\\site-packages\\pandas\\util\\_decorators.py\u001b[0m in \u001b[0;36mwrapper\u001b[1;34m(*args, **kwargs)\u001b[0m\n\u001b[0;32m    309\u001b[0m                     \u001b[0mstacklevel\u001b[0m\u001b[1;33m=\u001b[0m\u001b[0mstacklevel\u001b[0m\u001b[1;33m,\u001b[0m\u001b[1;33m\u001b[0m\u001b[1;33m\u001b[0m\u001b[0m\n\u001b[0;32m    310\u001b[0m                 )\n\u001b[1;32m--> 311\u001b[1;33m             \u001b[1;32mreturn\u001b[0m \u001b[0mfunc\u001b[0m\u001b[1;33m(\u001b[0m\u001b[1;33m*\u001b[0m\u001b[0margs\u001b[0m\u001b[1;33m,\u001b[0m \u001b[1;33m**\u001b[0m\u001b[0mkwargs\u001b[0m\u001b[1;33m)\u001b[0m\u001b[1;33m\u001b[0m\u001b[1;33m\u001b[0m\u001b[0m\n\u001b[0m\u001b[0;32m    312\u001b[0m \u001b[1;33m\u001b[0m\u001b[0m\n\u001b[0;32m    313\u001b[0m         \u001b[1;32mreturn\u001b[0m \u001b[0mwrapper\u001b[0m\u001b[1;33m\u001b[0m\u001b[1;33m\u001b[0m\u001b[0m\n",
      "\u001b[1;32m~\\anaconda3\\lib\\site-packages\\pandas\\core\\series.py\u001b[0m in \u001b[0;36msort_values\u001b[1;34m(self, axis, ascending, inplace, kind, na_position, ignore_index, key)\u001b[0m\n\u001b[0;32m   3428\u001b[0m         \u001b[0minplace\u001b[0m \u001b[1;33m=\u001b[0m \u001b[0mvalidate_bool_kwarg\u001b[0m\u001b[1;33m(\u001b[0m\u001b[0minplace\u001b[0m\u001b[1;33m,\u001b[0m \u001b[1;34m\"inplace\"\u001b[0m\u001b[1;33m)\u001b[0m\u001b[1;33m\u001b[0m\u001b[1;33m\u001b[0m\u001b[0m\n\u001b[0;32m   3429\u001b[0m         \u001b[1;31m# Validate the axis parameter\u001b[0m\u001b[1;33m\u001b[0m\u001b[1;33m\u001b[0m\u001b[0m\n\u001b[1;32m-> 3430\u001b[1;33m         \u001b[0mself\u001b[0m\u001b[1;33m.\u001b[0m\u001b[0m_get_axis_number\u001b[0m\u001b[1;33m(\u001b[0m\u001b[0maxis\u001b[0m\u001b[1;33m)\u001b[0m\u001b[1;33m\u001b[0m\u001b[1;33m\u001b[0m\u001b[0m\n\u001b[0m\u001b[0;32m   3431\u001b[0m \u001b[1;33m\u001b[0m\u001b[0m\n\u001b[0;32m   3432\u001b[0m         \u001b[1;31m# GH 5856/5853\u001b[0m\u001b[1;33m\u001b[0m\u001b[1;33m\u001b[0m\u001b[0m\n",
      "\u001b[1;32m~\\anaconda3\\lib\\site-packages\\pandas\\core\\generic.py\u001b[0m in \u001b[0;36m_get_axis_number\u001b[1;34m(cls, axis)\u001b[0m\n\u001b[0;32m    546\u001b[0m             \u001b[1;32mreturn\u001b[0m \u001b[0mcls\u001b[0m\u001b[1;33m.\u001b[0m\u001b[0m_AXIS_TO_AXIS_NUMBER\u001b[0m\u001b[1;33m[\u001b[0m\u001b[0maxis\u001b[0m\u001b[1;33m]\u001b[0m\u001b[1;33m\u001b[0m\u001b[1;33m\u001b[0m\u001b[0m\n\u001b[0;32m    547\u001b[0m         \u001b[1;32mexcept\u001b[0m \u001b[0mKeyError\u001b[0m\u001b[1;33m:\u001b[0m\u001b[1;33m\u001b[0m\u001b[1;33m\u001b[0m\u001b[0m\n\u001b[1;32m--> 548\u001b[1;33m             \u001b[1;32mraise\u001b[0m \u001b[0mValueError\u001b[0m\u001b[1;33m(\u001b[0m\u001b[1;34mf\"No axis named {axis} for object type {cls.__name__}\"\u001b[0m\u001b[1;33m)\u001b[0m\u001b[1;33m\u001b[0m\u001b[1;33m\u001b[0m\u001b[0m\n\u001b[0m\u001b[0;32m    549\u001b[0m \u001b[1;33m\u001b[0m\u001b[0m\n\u001b[0;32m    550\u001b[0m     \u001b[1;33m@\u001b[0m\u001b[0mfinal\u001b[0m\u001b[1;33m\u001b[0m\u001b[1;33m\u001b[0m\u001b[0m\n",
      "\u001b[1;31mValueError\u001b[0m: No axis named idDBLP for object type Series"
     ]
    }
   ],
   "source": [
    "abc2.sort_values('idDBLP')"
   ]
  },
  {
   "cell_type": "code",
   "execution_count": null,
   "id": "1b1d04f2-40fd-42e0-8e52-06953dd8bc13",
   "metadata": {},
   "outputs": [],
   "source": []
  }
 ],
 "metadata": {
  "kernelspec": {
   "display_name": "Python 3 (ipykernel)",
   "language": "python",
   "name": "python3"
  },
  "language_info": {
   "codemirror_mode": {
    "name": "ipython",
    "version": 3
   },
   "file_extension": ".py",
   "mimetype": "text/x-python",
   "name": "python",
   "nbconvert_exporter": "python",
   "pygments_lexer": "ipython3",
   "version": "3.9.7"
  }
 },
 "nbformat": 4,
 "nbformat_minor": 5
}
