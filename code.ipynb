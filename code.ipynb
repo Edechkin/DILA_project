{
 "cells": [
  {
   "cell_type": "markdown",
   "id": "06a2916c-3346-44ac-b7e2-3a455cccd4f3",
   "metadata": {
    "tags": []
   },
   "source": [
    "# Data cleaning:"
   ]
  },
  {
   "cell_type": "code",
   "execution_count": 36,
   "id": "1756efff-03ad-41a2-bf34-0fe15f865f4e",
   "metadata": {},
   "outputs": [],
   "source": [
    "import html\n",
    "from bs4 import BeautifulSoup\n",
    "import pandas as pd\n",
    "from unidecode import unidecode\n",
    "data_ACM = pd.read_csv(r'C:\\Users\\eetuj\\OneDrive - TUNI.fi\\DILA\\groupProject\\DILA_project\\ACM.csv')\n",
    "data_DBLP = pd.read_csv(r'C:\\Users\\eetuj\\OneDrive - TUNI.fi\\DILA\\groupProject\\DILA_project\\DBLP2_new.csv')\n",
    "#data_ACM['venue'] = data_ACM['venue'].to_string()"
   ]
  },
  {
   "cell_type": "code",
   "execution_count": 37,
   "id": "891bd26a-c802-4b7e-9549-6b883d384f97",
   "metadata": {},
   "outputs": [
    {
     "data": {
      "text/plain": [
       "0          International Conference on Management of Data\n",
       "1          International Conference on Management of Data\n",
       "2          International Conference on Management of Data\n",
       "3          International Conference on Management of Data\n",
       "4          International Conference on Management of Data\n",
       "                              ...                        \n",
       "2289                                Very Large Data Bases\n",
       "2290    The VLDB Journal &mdash; The International Jou...\n",
       "2291                                Very Large Data Bases\n",
       "2292                                    ACM SIGMOD Record\n",
       "2293                                Very Large Data Bases\n",
       "Name: venue, Length: 2294, dtype: object"
      ]
     },
     "execution_count": 37,
     "metadata": {},
     "output_type": "execute_result"
    }
   ],
   "source": [
    "data_ACM['venue'].str.strip()"
   ]
  },
  {
   "cell_type": "code",
   "execution_count": 38,
   "id": "e8e24f29-2f3d-49ca-b282-54a9bb65b047",
   "metadata": {},
   "outputs": [],
   "source": [
    "data_ACM.drop_duplicates(subset=['title', 'authors', 'venue', 'year'],inplace=True)\n",
    "data_DBLP.drop_duplicates(subset=['title', 'authors', 'venue', 'year'],inplace=True)"
   ]
  },
  {
   "cell_type": "code",
   "execution_count": 39,
   "id": "ad3ab9ae-3a75-4a7b-826e-9047d6c329a2",
   "metadata": {},
   "outputs": [],
   "source": [
    "data_ACM['authors'] = data_ACM['authors'].apply(lambda x: BeautifulSoup(str(x), \"html.parser\"))"
   ]
  },
  {
   "cell_type": "code",
   "execution_count": 40,
   "id": "92b99e6f-e905-4170-8a36-ca38bc20e5da",
   "metadata": {},
   "outputs": [],
   "source": [
    "#data_ACM['venue'] = data_ACM['venue'].apply(lambda x: BeautifulSoup(str(x), \"html.parser\"))\n",
    "data_ACM['venue'] = data_ACM['venue'].apply(lambda x: html.unescape(x) if isinstance(x, str) else x)"
   ]
  },
  {
   "cell_type": "code",
   "execution_count": 41,
   "id": "6ee08c3c-1b1d-4952-b565-0a1938f7a722",
   "metadata": {},
   "outputs": [],
   "source": [
    "data_ACM['authors'] = data_ACM['authors'].apply(lambda x: unidecode(str(x)))\n",
    "data_DBLP['authors'] = data_DBLP['authors'].apply(lambda x: unidecode(str(x)))"
   ]
  },
  {
   "cell_type": "code",
   "execution_count": 42,
   "id": "bbbb86c0-7cc8-4b3b-80f1-55d16c7d110f",
   "metadata": {},
   "outputs": [],
   "source": [
    "data_ACM['title'] = data_ACM['title'].apply(lambda x: x.upper())\n",
    "data_ACM['authors'] = data_ACM['authors'].apply(lambda x: x.upper())\n",
    "#data_ACM['venue'] = data_ACM['venue'].str.upper()"
   ]
  },
  {
   "cell_type": "code",
   "execution_count": 43,
   "id": "9dd4c878-fc71-4c6e-b43d-542830b3a5c8",
   "metadata": {},
   "outputs": [],
   "source": [
    "data_DBLP['title'] = data_DBLP['title'].apply(lambda x: x.upper())\n",
    "data_DBLP['authors'] = data_DBLP['authors'].apply(lambda x: x.upper())\n",
    "#data_DBLP['venue'] = data_DBLP['venue'].str.upper()"
   ]
  },
  {
   "cell_type": "code",
   "execution_count": 44,
   "id": "05786ae1-b979-491c-87f8-cc1d7e526b21",
   "metadata": {},
   "outputs": [],
   "source": [
    "data_ACM.replace(\"Very Large Data Bases\", \"VLDB\", inplace=True)\n",
    "data_ACM.replace(\"International Conference on Management of Data\", \"SIGMOD Conference\", inplace=True)\n",
    "data_ACM.replace(\"ACM SIGMOD Record \", \"SIGMOD Record\", inplace=True)\n",
    "data_ACM.replace(\"ACM Transactions on Database Systems (TODS) \", \"ACM Trans. Database Syst. \", inplace=True)\n",
    "data_ACM.replace(\"The VLDB Journal — The International Journal on Very Large Data Bases\", \"VLDB J.\", inplace=True)"
   ]
  },
  {
   "cell_type": "code",
   "execution_count": 45,
   "id": "d4e3599a-29c6-4bb0-b4e8-5fb1260b9274",
   "metadata": {},
   "outputs": [],
   "source": [
    "data_ACM.drop_duplicates(subset=['title', 'authors', 'venue', 'year'],inplace=True)\n",
    "data_DBLP.drop_duplicates(subset=['title', 'authors', 'venue', 'year'],inplace=True)"
   ]
  },
  {
   "cell_type": "code",
   "execution_count": 46,
   "id": "8cfa75f9-9c4b-441b-9af9-d62940aac518",
   "metadata": {},
   "outputs": [],
   "source": [
    "data_ACM.to_csv(r'C:\\Users\\eetuj\\OneDrive - TUNI.fi\\DILA\\groupProject\\DILA_project\\ACM3.csv', encoding='utf-8', index=False)\n",
    "data_DBLP.to_csv(r'C:\\Users\\eetuj\\OneDrive - TUNI.fi\\DILA\\groupProject\\DILA_project\\DBLP3.csv', encoding='utf-8', index=False)"
   ]
  },
  {
   "cell_type": "code",
   "execution_count": 47,
   "id": "0d6efa05-6cf0-49e3-9ca5-07ecb4184068",
   "metadata": {},
   "outputs": [
    {
     "name": "stdout",
     "output_type": "stream",
     "text": [
      "       id                                              title  \\\n",
      "0  304586  THE WASA2 OBJECT-ORIENTED WORKFLOW MANAGEMENT ...   \n",
      "1  304587  A USER-CENTERED INTERFACE FOR QUERYING DISTRIB...   \n",
      "2  304589  WORLD WIDE DATABASE-INTEGRATING THE WEB, CORBA...   \n",
      "3  304590           XML-BASED INFORMATION MEDIATION WITH MIX   \n",
      "4  304582  THE CCUBE CONSTRAINT OBJECT-ORIENTED DATABASE ...   \n",
      "5  304583  THE CORNELL JAGUAR PROJECT: ADDING MOBILITY TO...   \n",
      "6  304584  THE ACTIVE MULTISYNC CONTROLLER OF THE CUBETRE...   \n",
      "7  304585                  THE JUNGLE DATABASE SEARCH ENGINE   \n",
      "8  306112  ADEPT: AN AGENT-BASED APPROACH TO BUSINESS PRO...   \n",
      "9  306115  A COMPONENTIZED ARCHITECTURE FOR DYNAMIC ELECT...   \n",
      "\n",
      "                                             authors              venue  year  \n",
      "0                    GOTTFRIED VOSSEN, MATHIAS WESKE  SIGMOD Conference  1999  \n",
      "1                  ISABEL F. CRUZ, KIMBERLY M. JAMES  SIGMOD Conference  1999  \n",
      "2  ATHMAN BOUGUETTAYA, BOUALEM BENATALLAH, LILY H...  SIGMOD Conference  1999  \n",
      "3  CHAITAN BARU, AMARNATH GUPTA, BERTRAM LUDASCHE...  SIGMOD Conference  1999  \n",
      "4  ALEXANDER BRODSKY, VICTOR E. SEGAL, JIA CHEN, ...  SIGMOD Conference  1999  \n",
      "5  PHILLIPPE BONNET, KYLE BUZA, ZHIYUAN CHAN, VIC...  SIGMOD Conference  1999  \n",
      "6  NICK ROUSSOPOULOS, YANNIS KOTIDIS, YANNIS SISM...  SIGMOD Conference  1999  \n",
      "7    MICHAEL BOHLEN, LINAS BUKAUSKAS, CURTIS DYRESON  SIGMOD Conference  1999  \n",
      "8           N. R. JENNINGS, T. J. NORMAN, P. FARATIN      SIGMOD Record  1998  \n",
      "9                      BENNY REICH, ISRAEL BEN-SHAUL      SIGMOD Record  1998  \n",
      "                               id  \\\n",
      "0        journals/sigmod/Mackay99   \n",
      "1            conf/vldb/PoosalaI96   \n",
      "2         conf/vldb/PalpanasSCP02   \n",
      "3          conf/vldb/GardarinGT96   \n",
      "4               conf/vldb/HoelS95   \n",
      "5              conf/sigmod/Keim99   \n",
      "6        journals/sigmod/Ouksel02   \n",
      "7        journals/vldb/Seshadri98   \n",
      "8  journals/sigmod/RamamrithamS97   \n",
      "9      journals/sigmod/DAndreaJ96   \n",
      "\n",
      "                                               title  \\\n",
      "0  SEMANTIC INTEGRATION OF ENVIRONMENTAL MODELS F...   \n",
      "1  ESTIMATION OF QUERY-RESULT DISTRIBUTION AND IT...   \n",
      "2  INCREMENTAL MAINTENANCE FOR NON-DISTRIBUTIVE A...   \n",
      "3  COST-BASED SELECTION OF PATH EXPRESSION PROCES...   \n",
      "4  BENCHMARKING SPATIAL JOIN OPERATIONS WITH SPAT...   \n",
      "5  EFFICIENT GEOMETRY-BASED SIMILARITY SEARCH OF ...   \n",
      "6  MINING THE WORLD WIDE WEB: AN INFORMATION SEAR...   \n",
      "7  ENHANCED ABSTRACT DATA TYPES IN OBJECT-RELATIO...   \n",
      "8  REPORT ON DART '96: DATABASES: ACTIVE AND REAL...   \n",
      "9  UNISQL'S NEXT-GENERATION OBJECT-RELATIONAL DAT...   \n",
      "\n",
      "                                             authors              venue  year  \n",
      "0                                    D. SCOTT MACKAY      SIGMOD Record  1999  \n",
      "1             VISWANATH POOSALA, YANNIS E. IOANNIDIS               VLDB  1996  \n",
      "2  THEMISTOKLIS PALPANAS, RICHARD SIDLE, HAMID PI...               VLDB  2002  \n",
      "3  ZHAO-HUI TANG, GEORGES GARDARIN, JEAN-ROBERT G...               VLDB  1996  \n",
      "4                          ERIK G. HOEL, HANAN SAMET               VLDB  1995  \n",
      "5                                     DANIEL A. KEIM  SIGMOD Conference  1999  \n",
      "6                                     ARIS M. OUKSEL      SIGMOD Record  2002  \n",
      "7                                   PRAVEEN SESHADRI            VLDB J.  1998  \n",
      "8                NANDIT SOPARKAR, KRITHI RAMAMRITHAM      SIGMOD Record  1997  \n",
      "9                        PHIL JANUS, ALBERT D'ANDREA      SIGMOD Record  1996  \n"
     ]
    }
   ],
   "source": [
    "print(data_ACM.head(10))\n",
    "print(data_DBLP.head(10))"
   ]
  },
  {
   "cell_type": "code",
   "execution_count": 48,
   "id": "d2475529-9a00-4ec9-8531-8d1238428e3b",
   "metadata": {},
   "outputs": [],
   "source": [
    "#data_ACM['venue'] = data_ACM['venue'].to_string()"
   ]
  },
  {
   "cell_type": "code",
   "execution_count": 49,
   "id": "3bd3ee7f-648b-4962-a95f-43638b10e72a",
   "metadata": {},
   "outputs": [],
   "source": [
    "#for col in data_ACM.columns:\n",
    "#   data_ACM[col] = data_ACM[col].apply(lambda x: html.unescape(x) if isinstance(x, str) else x)"
   ]
  },
  {
   "cell_type": "code",
   "execution_count": 50,
   "id": "f11c8c24-c851-4509-9d51-28f46c41c8eb",
   "metadata": {},
   "outputs": [],
   "source": [
    "#data_ACM.title.str.lstrip()\n",
    "#data_ACM.authors.str.lstrip()\n",
    "#data_ACM.venue.str.lstrip()\n",
    "#print(data_ACM.loc[2160, 'venue'])\n",
    "#print(data_ACM.dtypes)"
   ]
  },
  {
   "cell_type": "code",
   "execution_count": 51,
   "id": "df288fa8-aded-4501-9a90-c2560e389fe7",
   "metadata": {},
   "outputs": [],
   "source": [
    "#data_ACM.drop_duplicates(subset=['title', 'authors', 'venue', 'year'],inplace=True)\n",
    "#data_DBLP.drop_duplicates(subset=['title', 'authors', 'venue', 'year'],inplace=True)"
   ]
  },
  {
   "cell_type": "code",
   "execution_count": 52,
   "id": "587a2eb5-1245-425b-bc3b-a7a5276315f0",
   "metadata": {},
   "outputs": [],
   "source": [
    "#d2['authors'] = data_ACM.apply(lambda x : x.split(\",\"))\n",
    "#for i, row in data_ACM.iterrows():\n",
    " #   data_ACM.at[i, 'authors'] = data_ACM.at[i, 'authors'].split(\",\")\n",
    "#data_ACM['authors'] = data_ACM['authors'].str.split(\", \")\n",
    "#data_ACM['authors'] = data_ACM['authors'].str.split(\" \")"
   ]
  },
  {
   "cell_type": "code",
   "execution_count": 53,
   "id": "afae02c9-02c4-4fb7-9dd5-0cba1ac462fa",
   "metadata": {},
   "outputs": [],
   "source": [
    "#html_data=unicodedata.normalize('NFKD',table.to_html()).encode('ascii','ignore')"
   ]
  },
  {
   "cell_type": "markdown",
   "id": "addca05d-9078-47f0-81fb-0c5b31e649ef",
   "metadata": {},
   "source": [
    "# Blocking:"
   ]
  }
 ],
 "metadata": {
  "kernelspec": {
   "display_name": "Python 3 (ipykernel)",
   "language": "python",
   "name": "python3"
  },
  "language_info": {
   "codemirror_mode": {
    "name": "ipython",
    "version": 3
   },
   "file_extension": ".py",
   "mimetype": "text/x-python",
   "name": "python",
   "nbconvert_exporter": "python",
   "pygments_lexer": "ipython3",
   "version": "3.9.7"
  }
 },
 "nbformat": 4,
 "nbformat_minor": 5
}
