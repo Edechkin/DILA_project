{
 "cells": [
  {
   "cell_type": "markdown",
   "id": "06a2916c-3346-44ac-b7e2-3a455cccd4f3",
   "metadata": {
    "tags": []
   },
   "source": [
    "# Data cleaning:"
   ]
  },
  {
   "cell_type": "code",
   "execution_count": 256,
   "id": "1756efff-03ad-41a2-bf34-0fe15f865f4e",
   "metadata": {},
   "outputs": [],
   "source": [
    "import html\n",
    "from bs4 import BeautifulSoup\n",
    "import pandas as pd\n",
    "from unidecode import unidecode\n",
    "data_ACM = pd.read_csv(r'ACM.csv')\n",
    "data_DBLP = pd.read_csv(r'DBLP2_new.csv')\n",
    "#data_ACM['venue'] = data_ACM['venue'].to_string()"
   ]
  },
  {
   "cell_type": "code",
   "execution_count": 257,
   "id": "891bd26a-c802-4b7e-9549-6b883d384f97",
   "metadata": {},
   "outputs": [
    {
     "data": {
      "text/plain": [
       "0                                    International Conference on Management of Data\n",
       "1                                    International Conference on Management of Data\n",
       "2                                    International Conference on Management of Data\n",
       "3                                    International Conference on Management of Data\n",
       "4                                    International Conference on Management of Data\n",
       "                                           ...                                     \n",
       "2289                                                          Very Large Data Bases\n",
       "2290    The VLDB Journal &mdash; The International Journal on Very Large Data Bases\n",
       "2291                                                          Very Large Data Bases\n",
       "2292                                                              ACM SIGMOD Record\n",
       "2293                                                          Very Large Data Bases\n",
       "Name: venue, Length: 2294, dtype: object"
      ]
     },
     "execution_count": 257,
     "metadata": {},
     "output_type": "execute_result"
    }
   ],
   "source": [
    "data_ACM['venue'].str.strip()"
   ]
  },
  {
   "cell_type": "code",
   "execution_count": 258,
   "id": "e8e24f29-2f3d-49ca-b282-54a9bb65b047",
   "metadata": {},
   "outputs": [],
   "source": [
    "data_ACM.drop_duplicates(subset=['title', 'authors', 'venue', 'year'],inplace=True)\n",
    "data_DBLP.drop_duplicates(subset=['title', 'authors', 'venue', 'year'],inplace=True)"
   ]
  },
  {
   "cell_type": "code",
   "execution_count": 259,
   "id": "ad3ab9ae-3a75-4a7b-826e-9047d6c329a2",
   "metadata": {},
   "outputs": [],
   "source": [
    "data_ACM['authors'] = data_ACM['authors'].apply(lambda x: BeautifulSoup(str(x), \"html.parser\"))"
   ]
  },
  {
   "cell_type": "code",
   "execution_count": 260,
   "id": "92b99e6f-e905-4170-8a36-ca38bc20e5da",
   "metadata": {},
   "outputs": [],
   "source": [
    "#data_ACM['venue'] = data_ACM['venue'].apply(lambda x: BeautifulSoup(str(x), \"html.parser\"))\n",
    "data_ACM['venue'] = data_ACM['venue'].apply(lambda x: html.unescape(x) if isinstance(x, str) else x)"
   ]
  },
  {
   "cell_type": "code",
   "execution_count": 261,
   "id": "6ee08c3c-1b1d-4952-b565-0a1938f7a722",
   "metadata": {},
   "outputs": [],
   "source": [
    "data_ACM['authors'] = data_ACM['authors'].apply(lambda x: unidecode(str(x)))\n",
    "data_DBLP['authors'] = data_DBLP['authors'].apply(lambda x: unidecode(str(x)))"
   ]
  },
  {
   "cell_type": "code",
   "execution_count": 262,
   "id": "bbbb86c0-7cc8-4b3b-80f1-55d16c7d110f",
   "metadata": {},
   "outputs": [],
   "source": [
    "data_ACM['title'] = data_ACM['title'].apply(lambda x: x.upper())\n",
    "data_ACM['authors'] = data_ACM['authors'].apply(lambda x: x.upper())\n",
    "#data_ACM['venue'] = data_ACM['venue'].str.upper()"
   ]
  },
  {
   "cell_type": "code",
   "execution_count": 263,
   "id": "9dd4c878-fc71-4c6e-b43d-542830b3a5c8",
   "metadata": {},
   "outputs": [],
   "source": [
    "data_DBLP['title'] = data_DBLP['title'].apply(lambda x: x.upper())\n",
    "data_DBLP['authors'] = data_DBLP['authors'].apply(lambda x: x.upper())\n",
    "#data_DBLP['venue'] = data_DBLP['venue'].str.upper()"
   ]
  },
  {
   "cell_type": "code",
   "execution_count": 264,
   "id": "05786ae1-b979-491c-87f8-cc1d7e526b21",
   "metadata": {},
   "outputs": [],
   "source": [
    "data_ACM.replace(\"Very Large Data Bases\", \"VLDB\", inplace=True)\n",
    "data_ACM.replace(\"International Conference on Management of Data\", \"SIGMOD Conference\", inplace=True)\n",
    "data_ACM.replace(\"ACM SIGMOD Record \", \"SIGMOD Record\", inplace=True)\n",
    "data_ACM.replace(\"ACM Transactions on Database Systems (TODS) \", \"ACM Trans. Database Syst. \", inplace=True)\n",
    "data_ACM.replace(\"The VLDB Journal — The International Journal on Very Large Data Bases \", \"VLDB J.\", inplace=True)"
   ]
  },
  {
   "cell_type": "code",
   "execution_count": 265,
   "id": "d4e3599a-29c6-4bb0-b4e8-5fb1260b9274",
   "metadata": {},
   "outputs": [],
   "source": [
    "data_ACM.drop_duplicates(subset=['title', 'authors', 'venue', 'year'],inplace=True)\n",
    "data_DBLP.drop_duplicates(subset=['title', 'authors', 'venue', 'year'],inplace=True)"
   ]
  },
  {
   "cell_type": "code",
   "execution_count": 266,
   "id": "8cfa75f9-9c4b-441b-9af9-d62940aac518",
   "metadata": {},
   "outputs": [],
   "source": [
    "data_ACM.to_csv(r'ACM3.csv', encoding='utf-8', index=False)\n",
    "data_DBLP.to_csv(r'DBLP3.csv', encoding='utf-8', index=False)"
   ]
  },
  {
   "cell_type": "code",
   "execution_count": 267,
   "id": "0d6efa05-6cf0-49e3-9ca5-07ecb4184068",
   "metadata": {},
   "outputs": [
    {
     "name": "stdout",
     "output_type": "stream",
     "text": [
      "       id  \\\n",
      "0  304586   \n",
      "1  304587   \n",
      "2  304589   \n",
      "3  304590   \n",
      "4  304582   \n",
      "5  304583   \n",
      "6  304584   \n",
      "7  304585   \n",
      "8  306112   \n",
      "9  306115   \n",
      "\n",
      "                                                                     title  \\\n",
      "0                     THE WASA2 OBJECT-ORIENTED WORKFLOW MANAGEMENT SYSTEM   \n",
      "1  A USER-CENTERED INTERFACE FOR QUERYING DISTRIBUTED MULTIMEDIA DATABASES   \n",
      "2             WORLD WIDE DATABASE-INTEGRATING THE WEB, CORBA AND DATABASES   \n",
      "3                                 XML-BASED INFORMATION MEDIATION WITH MIX   \n",
      "4                     THE CCUBE CONSTRAINT OBJECT-ORIENTED DATABASE SYSTEM   \n",
      "5                  THE CORNELL JAGUAR PROJECT: ADDING MOBILITY TO PREDATOR   \n",
      "6     THE ACTIVE MULTISYNC CONTROLLER OF THE CUBETREE STORAGE ORGANIZATION   \n",
      "7                                        THE JUNGLE DATABASE SEARCH ENGINE   \n",
      "8            ADEPT: AN AGENT-BASED APPROACH TO BUSINESS PROCESS MANAGEMENT   \n",
      "9              A COMPONENTIZED ARCHITECTURE FOR DYNAMIC ELECTRONIC MARKETS   \n",
      "\n",
      "                                                                                               authors  \\\n",
      "0                                                                      GOTTFRIED VOSSEN, MATHIAS WESKE   \n",
      "1                                                                    ISABEL F. CRUZ, KIMBERLY M. JAMES   \n",
      "2        ATHMAN BOUGUETTAYA, BOUALEM BENATALLAH, LILY HENDRA, JAMES BEARD, KEVIN SMITH, MOURAD QUZZANI   \n",
      "3  CHAITAN BARU, AMARNATH GUPTA, BERTRAM LUDASCHER, RICHARD MARCIANO, YANNIS PAPAKONSTANTINOU, PAVE...   \n",
      "4                                  ALEXANDER BRODSKY, VICTOR E. SEGAL, JIA CHEN, PAVAL A. EXARKHOPOULO   \n",
      "5  PHILLIPPE BONNET, KYLE BUZA, ZHIYUAN CHAN, VICTOR CHENG, RANDOLPH CHUNG, TAKAKO HICKEY, RYAN KEN...   \n",
      "6                                                   NICK ROUSSOPOULOS, YANNIS KOTIDIS, YANNIS SISMANIS   \n",
      "7                                                      MICHAEL BOHLEN, LINAS BUKAUSKAS, CURTIS DYRESON   \n",
      "8                                                             N. R. JENNINGS, T. J. NORMAN, P. FARATIN   \n",
      "9                                                                        BENNY REICH, ISRAEL BEN-SHAUL   \n",
      "\n",
      "               venue  year  \n",
      "0  SIGMOD Conference  1999  \n",
      "1  SIGMOD Conference  1999  \n",
      "2  SIGMOD Conference  1999  \n",
      "3  SIGMOD Conference  1999  \n",
      "4  SIGMOD Conference  1999  \n",
      "5  SIGMOD Conference  1999  \n",
      "6  SIGMOD Conference  1999  \n",
      "7  SIGMOD Conference  1999  \n",
      "8      SIGMOD Record  1998  \n",
      "9      SIGMOD Record  1998  \n",
      "                               id  \\\n",
      "0        journals/sigmod/Mackay99   \n",
      "1            conf/vldb/PoosalaI96   \n",
      "2         conf/vldb/PalpanasSCP02   \n",
      "3          conf/vldb/GardarinGT96   \n",
      "4               conf/vldb/HoelS95   \n",
      "5              conf/sigmod/Keim99   \n",
      "6        journals/sigmod/Ouksel02   \n",
      "7        journals/vldb/Seshadri98   \n",
      "8  journals/sigmod/RamamrithamS97   \n",
      "9      journals/sigmod/DAndreaJ96   \n",
      "\n",
      "                                                                                                 title  \\\n",
      "0  SEMANTIC INTEGRATION OF ENVIRONMENTAL MODELS FOR APPLICATION TO GLOBAL INFORMATION SYSTEMS AND D...   \n",
      "1          ESTIMATION OF QUERY-RESULT DISTRIBUTION AND ITS APPLICATION IN PARALLEL-JOIN LOAD BALANCING   \n",
      "2                                     INCREMENTAL MAINTENANCE FOR NON-DISTRIBUTIVE AGGREGATE FUNCTIONS   \n",
      "3           COST-BASED SELECTION OF PATH EXPRESSION PROCESSING ALGORITHMS IN OBJECT-ORIENTED DATABASES   \n",
      "4                                             BENCHMARKING SPATIAL JOIN OPERATIONS WITH SPATIAL OUTPUT   \n",
      "5                                   EFFICIENT GEOMETRY-BASED SIMILARITY SEARCH OF 3D SPATIAL DATABASES   \n",
      "6                              MINING THE WORLD WIDE WEB: AN INFORMATION SEARCH APPROACH - BOOK REVIEW   \n",
      "7                                          ENHANCED ABSTRACT DATA TYPES IN OBJECT-RELATIONAL DATABASES   \n",
      "8                         REPORT ON DART '96: DATABASES: ACTIVE AND REAL-TIME (CONCEPTS MEET PRACTICE)   \n",
      "9                                UNISQL'S NEXT-GENERATION OBJECT-RELATIONAL DATABASE MANAGEMENT SYSTEM   \n",
      "\n",
      "                                                                  authors  \\\n",
      "0                                                         D. SCOTT MACKAY   \n",
      "1                                  VISWANATH POOSALA, YANNIS E. IOANNIDIS   \n",
      "2  THEMISTOKLIS PALPANAS, RICHARD SIDLE, HAMID PIRAHESH, ROBERTA COCHRANE   \n",
      "3                     ZHAO-HUI TANG, GEORGES GARDARIN, JEAN-ROBERT GRUSER   \n",
      "4                                               ERIK G. HOEL, HANAN SAMET   \n",
      "5                                                          DANIEL A. KEIM   \n",
      "6                                                          ARIS M. OUKSEL   \n",
      "7                                                        PRAVEEN SESHADRI   \n",
      "8                                     NANDIT SOPARKAR, KRITHI RAMAMRITHAM   \n",
      "9                                             PHIL JANUS, ALBERT D'ANDREA   \n",
      "\n",
      "               venue  year  \n",
      "0      SIGMOD Record  1999  \n",
      "1               VLDB  1996  \n",
      "2               VLDB  2002  \n",
      "3               VLDB  1996  \n",
      "4               VLDB  1995  \n",
      "5  SIGMOD Conference  1999  \n",
      "6      SIGMOD Record  2002  \n",
      "7            VLDB J.  1998  \n",
      "8      SIGMOD Record  1997  \n",
      "9      SIGMOD Record  1996  \n"
     ]
    }
   ],
   "source": [
    "print(data_ACM.head(10))\n",
    "print(data_DBLP.head(10))"
   ]
  },
  {
   "cell_type": "code",
   "execution_count": 268,
   "id": "d2475529-9a00-4ec9-8531-8d1238428e3b",
   "metadata": {},
   "outputs": [],
   "source": [
    "#data_ACM['venue'] = data_ACM['venue'].to_string()"
   ]
  },
  {
   "cell_type": "code",
   "execution_count": 269,
   "id": "3bd3ee7f-648b-4962-a95f-43638b10e72a",
   "metadata": {},
   "outputs": [],
   "source": [
    "#for col in data_ACM.columns:\n",
    "#   data_ACM[col] = data_ACM[col].apply(lambda x: html.unescape(x) if isinstance(x, str) else x)"
   ]
  },
  {
   "cell_type": "code",
   "execution_count": 270,
   "id": "f11c8c24-c851-4509-9d51-28f46c41c8eb",
   "metadata": {},
   "outputs": [],
   "source": [
    "#data_ACM.title.str.lstrip()\n",
    "#data_ACM.authors.str.lstrip()\n",
    "#data_ACM.venue.str.lstrip()\n",
    "#print(data_ACM.loc[2160, 'venue'])\n",
    "#print(data_ACM.dtypes)"
   ]
  },
  {
   "cell_type": "code",
   "execution_count": 271,
   "id": "df288fa8-aded-4501-9a90-c2560e389fe7",
   "metadata": {},
   "outputs": [],
   "source": [
    "#data_ACM.drop_duplicates(subset=['title', 'authors', 'venue', 'year'],inplace=True)\n",
    "#data_DBLP.drop_duplicates(subset=['title', 'authors', 'venue', 'year'],inplace=True)"
   ]
  },
  {
   "cell_type": "code",
   "execution_count": 272,
   "id": "587a2eb5-1245-425b-bc3b-a7a5276315f0",
   "metadata": {},
   "outputs": [],
   "source": [
    "#d2['authors'] = data_ACM.apply(lambda x : x.split(\",\"))\n",
    "#for i, row in data_ACM.iterrows():\n",
    " #   data_ACM.at[i, 'authors'] = data_ACM.at[i, 'authors'].split(\",\")\n",
    "#data_ACM['authors'] = data_ACM['authors'].str.split(\", \")\n",
    "#data_ACM['authors'] = data_ACM['authors'].str.split(\" \")"
   ]
  },
  {
   "cell_type": "code",
   "execution_count": 273,
   "id": "afae02c9-02c4-4fb7-9dd5-0cba1ac462fa",
   "metadata": {},
   "outputs": [],
   "source": [
    "#html_data=unicodedata.normalize('NFKD',table.to_html()).encode('ascii','ignore')"
   ]
  },
  {
   "cell_type": "markdown",
   "id": "fc544e30-7d66-4750-9d52-fd0241b58880",
   "metadata": {
    "jp-MarkdownHeadingCollapsed": true,
    "tags": []
   },
   "source": [
    "# Blocking:"
   ]
  },
  {
   "cell_type": "code",
   "execution_count": 274,
   "id": "38a9f32c-2ae4-43c5-95a4-051579ee3c7d",
   "metadata": {},
   "outputs": [
    {
     "name": "stderr",
     "output_type": "stream",
     "text": [
      "File already exists at ACM3_meta.csv; Overwriting it\n",
      "Metadata file already exists at ACM3_meta.metadata. Overwriting it\n",
      "File already exists at DBLP3_meta.csv; Overwriting it\n",
      "Metadata file already exists at DBLP3_meta.metadata. Overwriting it\n"
     ]
    },
    {
     "data": {
      "text/plain": [
       "True"
      ]
     },
     "execution_count": 274,
     "metadata": {},
     "output_type": "execute_result"
    }
   ],
   "source": [
    "import py_entitymatching as em\n",
    "em.set_key(data_ACM, 'id')\n",
    "em.set_key(data_DBLP, 'id')\n",
    "em.to_csv_metadata(data_ACM, r'ACM3_meta.csv')\n",
    "em.to_csv_metadata(data_ACM, r'DBLP3_meta.csv')"
   ]
  },
  {
   "cell_type": "code",
   "execution_count": null,
   "id": "e58c2994-4fa9-4fb1-99f8-874486bc5094",
   "metadata": {},
   "outputs": [],
   "source": []
  },
  {
   "cell_type": "code",
   "execution_count": 275,
   "id": "f148bf4f-be6d-41cf-a669-8e5d51ad443f",
   "metadata": {},
   "outputs": [
    {
     "name": "stdout",
     "output_type": "stream",
     "text": [
      "       _id  ltable_id  rtable_id  \\\n",
      "0        0     304586     304586   \n",
      "1        1     304587     304587   \n",
      "2        2     304589     304589   \n",
      "3        3     304590     304590   \n",
      "4        4     304582     304582   \n",
      "...    ...        ...        ...   \n",
      "2472  2472     950483     950483   \n",
      "2473  2473     672977     672977   \n",
      "2474  2474     672980     672980   \n",
      "2475  2475     945741     945741   \n",
      "2476  2476     672979     672979   \n",
      "\n",
      "                                                                                             ltable_title  \\\n",
      "0                                                    THE WASA2 OBJECT-ORIENTED WORKFLOW MANAGEMENT SYSTEM   \n",
      "1                                 A USER-CENTERED INTERFACE FOR QUERYING DISTRIBUTED MULTIMEDIA DATABASES   \n",
      "2                                            WORLD WIDE DATABASE-INTEGRATING THE WEB, CORBA AND DATABASES   \n",
      "3                                                                XML-BASED INFORMATION MEDIATION WITH MIX   \n",
      "4                                                    THE CCUBE CONSTRAINT OBJECT-ORIENTED DATABASE SYSTEM   \n",
      "...                                                                                                   ...   \n",
      "2472                                                                         A CASE FOR FRACTURED MIRRORS   \n",
      "2473                                                            DUAL-BUFFERING STRATEGIES IN OBJECT BASES   \n",
      "2474                                                   GRAPHDB: MODELING AND QUERYING GRAPHS IN DATABASES   \n",
      "2475  REVIEW OF THE DATA WAREHOUSE TOOLKIT: THE COMPLETE GUIDE TO DIMENSIONAL MODELING (2ND EDITION) B...   \n",
      "2476                                                       BULK LOADING INTO AN OODB: A PERFORMANCE STUDY   \n",
      "\n",
      "                                                                                           ltable_authors  \\\n",
      "0                                                                         GOTTFRIED VOSSEN, MATHIAS WESKE   \n",
      "1                                                                       ISABEL F. CRUZ, KIMBERLY M. JAMES   \n",
      "2           ATHMAN BOUGUETTAYA, BOUALEM BENATALLAH, LILY HENDRA, JAMES BEARD, KEVIN SMITH, MOURAD QUZZANI   \n",
      "3     CHAITAN BARU, AMARNATH GUPTA, BERTRAM LUDASCHER, RICHARD MARCIANO, YANNIS PAPAKONSTANTINOU, PAVE...   \n",
      "4                                     ALEXANDER BRODSKY, VICTOR E. SEGAL, JIA CHEN, PAVAL A. EXARKHOPOULO   \n",
      "...                                                                                                   ...   \n",
      "2472                                                       RAVISHANKAR RAMAMURTHY, DAVID J. DEWITT, QI SU   \n",
      "2473                                                                       ALFONS KEMPER, DONALD KOSSMANN   \n",
      "2474                                                                                  RALF HARTMUT GUTING   \n",
      "2475                                                                                ALEXANDER A. ANISIMOV   \n",
      "2476                                                                 JANET L. WIENER, JEFFREY F. NAUGHTON   \n",
      "\n",
      "           ltable_venue  ltable_year  \\\n",
      "0     SIGMOD Conference         1999   \n",
      "1     SIGMOD Conference         1999   \n",
      "2     SIGMOD Conference         1999   \n",
      "3     SIGMOD Conference         1999   \n",
      "4     SIGMOD Conference         1999   \n",
      "...                 ...          ...   \n",
      "2472            VLDB J.         2003   \n",
      "2473               VLDB         1994   \n",
      "2474               VLDB         1994   \n",
      "2475      SIGMOD Record         2003   \n",
      "2476               VLDB         1994   \n",
      "\n",
      "                                                                                             rtable_title  \\\n",
      "0                                                    THE WASA2 OBJECT-ORIENTED WORKFLOW MANAGEMENT SYSTEM   \n",
      "1                                 A USER-CENTERED INTERFACE FOR QUERYING DISTRIBUTED MULTIMEDIA DATABASES   \n",
      "2                                            WORLD WIDE DATABASE-INTEGRATING THE WEB, CORBA AND DATABASES   \n",
      "3                                                                XML-BASED INFORMATION MEDIATION WITH MIX   \n",
      "4                                                    THE CCUBE CONSTRAINT OBJECT-ORIENTED DATABASE SYSTEM   \n",
      "...                                                                                                   ...   \n",
      "2472                                                                         A CASE FOR FRACTURED MIRRORS   \n",
      "2473                                                            DUAL-BUFFERING STRATEGIES IN OBJECT BASES   \n",
      "2474                                                   GRAPHDB: MODELING AND QUERYING GRAPHS IN DATABASES   \n",
      "2475  REVIEW OF THE DATA WAREHOUSE TOOLKIT: THE COMPLETE GUIDE TO DIMENSIONAL MODELING (2ND EDITION) B...   \n",
      "2476                                                       BULK LOADING INTO AN OODB: A PERFORMANCE STUDY   \n",
      "\n",
      "                                                                                           rtable_authors  \\\n",
      "0                                                                         GOTTFRIED VOSSEN, MATHIAS WESKE   \n",
      "1                                                                       ISABEL F. CRUZ, KIMBERLY M. JAMES   \n",
      "2           ATHMAN BOUGUETTAYA, BOUALEM BENATALLAH, LILY HENDRA, JAMES BEARD, KEVIN SMITH, MOURAD QUZZANI   \n",
      "3     CHAITAN BARU, AMARNATH GUPTA, BERTRAM LUDASCHER, RICHARD MARCIANO, YANNIS PAPAKONSTANTINOU, PAVE...   \n",
      "4                                     ALEXANDER BRODSKY, VICTOR E. SEGAL, JIA CHEN, PAVAL A. EXARKHOPOULO   \n",
      "...                                                                                                   ...   \n",
      "2472                                                       RAVISHANKAR RAMAMURTHY, DAVID J. DEWITT, QI SU   \n",
      "2473                                                                       ALFONS KEMPER, DONALD KOSSMANN   \n",
      "2474                                                                                  RALF HARTMUT GUTING   \n",
      "2475                                                                                ALEXANDER A. ANISIMOV   \n",
      "2476                                                                 JANET L. WIENER, JEFFREY F. NAUGHTON   \n",
      "\n",
      "           rtable_venue  rtable_year  \n",
      "0     SIGMOD Conference         1999  \n",
      "1     SIGMOD Conference         1999  \n",
      "2     SIGMOD Conference         1999  \n",
      "3     SIGMOD Conference         1999  \n",
      "4     SIGMOD Conference         1999  \n",
      "...                 ...          ...  \n",
      "2472            VLDB J.         2003  \n",
      "2473               VLDB         1994  \n",
      "2474               VLDB         1994  \n",
      "2475      SIGMOD Record         2003  \n",
      "2476               VLDB         1994  \n",
      "\n",
      "[2477 rows x 11 columns]\n"
     ]
    }
   ],
   "source": [
    "print(C1)"
   ]
  },
  {
   "cell_type": "code",
   "execution_count": 276,
   "id": "6ed91ab9-9749-4f2d-828d-cf1cb0aef442",
   "metadata": {},
   "outputs": [],
   "source": [
    "C1.to_csv(r'C1.csv', encoding='utf-8', index=False)"
   ]
  },
  {
   "cell_type": "code",
   "execution_count": 277,
   "id": "2bd9048a-18bd-44bc-b531-3edae6cccdc1",
   "metadata": {},
   "outputs": [],
   "source": [
    "dfA =C1[['ltable_id', 'ltable_authors', 'ltable_title', 'ltable_venue', 'ltable_year']].copy()\n",
    "#['ltable_id', 'ltable_authors', 'ltable_title', 'ltable_venue', 'ltable_year']\n",
    "dfB = C1[['rtable_id', 'rtable_authors', 'rtable_title', 'rtable_venue', 'rtable_year']].copy()\n",
    "#['rtable_id', 'rtable_authors', 'rtable_title', 'rtable_venue', 'rtable_year']"
   ]
  },
  {
   "cell_type": "code",
   "execution_count": 278,
   "id": "c27d6163-c1e4-4683-865b-ae016bd98781",
   "metadata": {},
   "outputs": [],
   "source": [
    "x = C1.groupby('ltable_title')"
   ]
  },
  {
   "cell_type": "code",
   "execution_count": 279,
   "id": "4f52d061-75ba-4a52-880d-b0fae4c181ff",
   "metadata": {},
   "outputs": [
    {
     "name": "stdout",
     "output_type": "stream",
     "text": [
      "<pandas.core.groupby.generic.DataFrameGroupBy object at 0x000002260184BE50>\n"
     ]
    }
   ],
   "source": [
    "print(x)"
   ]
  },
  {
   "cell_type": "code",
   "execution_count": 280,
   "id": "ba719acd-10de-4d9b-af39-922d668bd269",
   "metadata": {},
   "outputs": [],
   "source": [
    "stacked = pd.concat([data_ACM, data_DBLP], keys= ['ACM', 'DBLP'], ignore_index=True)\n",
    "#dfA_title = ACM.groupby('title')\n",
    "#dfB_title = DBLP.groupby('title')"
   ]
  },
  {
   "cell_type": "code",
   "execution_count": 281,
   "id": "1c42cb5b-e179-43c1-89dd-0b3179c6259f",
   "metadata": {},
   "outputs": [],
   "source": [
    "stacked.to_csv(r'stacked.csv', encoding='utf-8', index=False)"
   ]
  },
  {
   "cell_type": "code",
   "execution_count": 282,
   "id": "6c22afd9-8be2-4438-ae1d-0c14fde14bbe",
   "metadata": {},
   "outputs": [],
   "source": [
    "grouped = stacked.groupby('title')"
   ]
  },
  {
   "cell_type": "code",
   "execution_count": 283,
   "id": "470eed8c-a7e3-4d60-b409-df32af6b54c7",
   "metadata": {},
   "outputs": [
    {
     "name": "stdout",
     "output_type": "stream",
     "text": [
      "2791\n"
     ]
    }
   ],
   "source": [
    "print(len(stacked.groupby('title')))"
   ]
  },
  {
   "cell_type": "code",
   "execution_count": 284,
   "id": "45cb34ab-4022-4bca-a476-0a169e44ad6a",
   "metadata": {},
   "outputs": [
    {
     "name": "stdout",
     "output_type": "stream",
     "text": [
      "4847\n"
     ]
    }
   ],
   "source": [
    "print(len(stacked))"
   ]
  },
  {
   "cell_type": "code",
   "execution_count": 285,
   "id": "30aa2f08-bd57-436a-acf4-9d92d8c3b348",
   "metadata": {},
   "outputs": [],
   "source": [
    "abc = pd.DataFrame(columns=['idDBLP', 'idACM'])"
   ]
  },
  {
   "cell_type": "code",
   "execution_count": 286,
   "id": "c4dded53-c7be-4bc1-b5ff-b420aab6bede",
   "metadata": {},
   "outputs": [],
   "source": [
    "sum=0\n",
    "grouped.size()\n",
    "for key, item in grouped:\n",
    "    g = grouped.get_group(key)\n",
    "    if g.size == 10:\n",
    "        abc = abc.append({'idDBLP' : g.get('id').iloc[1], 'idACM' : g.get('id').iloc[0]}, ignore_index=True)\n",
    "        #print(g.get('id').iloc[1])\n",
    "        "
   ]
  },
  {
   "cell_type": "code",
   "execution_count": 287,
   "id": "edf5902f-f985-4ec4-bc01-556b664c65c5",
   "metadata": {},
   "outputs": [],
   "source": [
    "lev = pd.DataFrame(columns=['idDBLP', 'idACM'])"
   ]
  },
  {
   "cell_type": "code",
   "execution_count": 288,
   "id": "2f34092a-f8f8-4269-9916-7edf18cb4cbc",
   "metadata": {},
   "outputs": [
    {
     "ename": "AttributeError",
     "evalue": "module 'py_entitymatching' has no attribute 'string_compare_levenshtein'",
     "output_type": "error",
     "traceback": [
      "\u001b[1;31m---------------------------------------------------------------------------\u001b[0m",
      "\u001b[1;31mAttributeError\u001b[0m                            Traceback (most recent call last)",
      "\u001b[1;32m~\\AppData\\Local\\Temp/ipykernel_4360/1194022879.py\u001b[0m in \u001b[0;36m<module>\u001b[1;34m\u001b[0m\n\u001b[0;32m      4\u001b[0m     \u001b[0ms\u001b[0m \u001b[1;33m=\u001b[0m \u001b[0mg\u001b[0m\u001b[1;33m.\u001b[0m\u001b[0msize\u001b[0m\u001b[1;33m\u001b[0m\u001b[1;33m\u001b[0m\u001b[0m\n\u001b[0;32m      5\u001b[0m     \u001b[1;32mif\u001b[0m \u001b[0ms\u001b[0m \u001b[1;33m>\u001b[0m \u001b[1;36m5\u001b[0m\u001b[1;33m:\u001b[0m\u001b[1;33m\u001b[0m\u001b[1;33m\u001b[0m\u001b[0m\n\u001b[1;32m----> 6\u001b[1;33m         \u001b[0mcompare\u001b[0m \u001b[1;33m=\u001b[0m \u001b[0mem\u001b[0m\u001b[1;33m.\u001b[0m\u001b[0mstring_compare_levenshtein\u001b[0m\u001b[1;33m(\u001b[0m\u001b[0mg\u001b[0m\u001b[1;33m,\u001b[0m \u001b[1;34m'authors'\u001b[0m\u001b[1;33m,\u001b[0m \u001b[1;34m'authors'\u001b[0m\u001b[1;33m)\u001b[0m\u001b[1;33m\u001b[0m\u001b[1;33m\u001b[0m\u001b[0m\n\u001b[0m\u001b[0;32m      7\u001b[0m         \u001b[1;32mif\u001b[0m \u001b[0mcompare\u001b[0m \u001b[1;33m>=\u001b[0m \u001b[1;36m0.7\u001b[0m\u001b[1;33m:\u001b[0m\u001b[1;33m\u001b[0m\u001b[1;33m\u001b[0m\u001b[0m\n\u001b[0;32m      8\u001b[0m             \u001b[1;32mif\u001b[0m \u001b[0ms\u001b[0m \u001b[1;33m<\u001b[0m \u001b[1;36m10\u001b[0m\u001b[1;33m:\u001b[0m\u001b[1;33m\u001b[0m\u001b[1;33m\u001b[0m\u001b[0m\n",
      "\u001b[1;31mAttributeError\u001b[0m: module 'py_entitymatching' has no attribute 'string_compare_levenshtein'"
     ]
    }
   ],
   "source": [
    "#compare = em.string_compare_levenshtein(C, 'title', 'title') \n",
    "for key, item in grouped:\n",
    "    g = grouped.get_group(key)\n",
    "    s = g.size\n",
    "    if s > 5:\n",
    "        compare = em.string_compare_levenshtein(g, 'authors', 'authors')\n",
    "        if compare >= 0.7:\n",
    "            if s < 10:\n",
    "                lev = lev.append({'idDBLP' : g.get('id').iloc[1], 'idACM' : g.get('id').iloc[0]}, ignore_index=True)\n",
    "            \n",
    "        "
   ]
  },
  {
   "cell_type": "code",
   "execution_count": null,
   "id": "79094879-2f48-4e0e-9297-fce3d7304272",
   "metadata": {},
   "outputs": [],
   "source": [
    "print(abc.head(10))"
   ]
  },
  {
   "cell_type": "code",
   "execution_count": null,
   "id": "17820951-b6f1-4826-a8e6-0b2a357e1338",
   "metadata": {},
   "outputs": [],
   "source": [
    "abc2 = abc['idACM'].apply(lambda x : str(x))"
   ]
  },
  {
   "cell_type": "code",
   "execution_count": null,
   "id": "901171e2-0ee1-43e9-8b11-e3780c361679",
   "metadata": {},
   "outputs": [],
   "source": [
    "abc2 = abc['idDBLP'].apply(lambda x : str(x))"
   ]
  },
  {
   "cell_type": "code",
   "execution_count": null,
   "id": "2f73182a-3e61-43d4-958b-227dc9d84c82",
   "metadata": {},
   "outputs": [],
   "source": [
    "abc2.sort_values('idDBLP')"
   ]
  },
  {
   "cell_type": "code",
   "execution_count": null,
   "id": "7aaee217-80b6-4542-b0fd-e44fd19b2709",
   "metadata": {},
   "outputs": [],
   "source": [
    "abc2.to_csv(r'abc2.csv', encoding='utf-8', index=False)"
   ]
  },
  {
   "cell_type": "code",
   "execution_count": null,
   "id": "1b1d04f2-40fd-42e0-8e52-06953dd8bc13",
   "metadata": {},
   "outputs": [],
   "source": [
    "abc.to_csv(r'abc.csv', encoding='utf-8', index=False)"
   ]
  },
  {
   "cell_type": "code",
   "execution_count": null,
   "id": "01ff6a49-116f-4b40-9c81-881c30ddde4d",
   "metadata": {},
   "outputs": [],
   "source": [
    "perf = pd.read_csv(r'DBLP-ACM_perfectMapping.csv')"
   ]
  },
  {
   "cell_type": "code",
   "execution_count": null,
   "id": "fc2d2f14-50e2-497e-8925-307957dc8194",
   "metadata": {},
   "outputs": [],
   "source": [
    "perf['idDBLP'].nunique()"
   ]
  },
  {
   "cell_type": "code",
   "execution_count": null,
   "id": "1d47e861-ce13-49df-8256-408447a071fd",
   "metadata": {},
   "outputs": [],
   "source": [
    "perf['idACM'].nunique()"
   ]
  },
  {
   "cell_type": "code",
   "execution_count": null,
   "id": "631e3aeb-a842-468d-99f2-f7ad2aa38728",
   "metadata": {},
   "outputs": [],
   "source": [
    "perf['idDBLP'].count()"
   ]
  },
  {
   "cell_type": "markdown",
   "id": "51872619-f26d-4b3c-a113-d90f43e1248a",
   "metadata": {},
   "source": [
    "# Blocking 2. way"
   ]
  },
  {
   "cell_type": "code",
   "execution_count": null,
   "id": "3b3d953a-a468-4c3b-bf75-8a9c0d22485a",
   "metadata": {},
   "outputs": [],
   "source": [
    "#em.set_key(stacked, 'id')\n",
    "#em.to_csv_metadata(stacked, r'C:\\Users\\eetuj\\OneDrive - TUNI.fi\\DILA\\groupProject\\DILA_project/stacked_meta.csv')"
   ]
  },
  {
   "cell_type": "code",
   "execution_count": null,
   "id": "73856208-e9e6-47fa-93b9-1114b49e0111",
   "metadata": {},
   "outputs": [],
   "source": [
    "#stack2 = em.read_csv_metadata(r'stacked_meta.csv')"
   ]
  },
  {
   "cell_type": "code",
   "execution_count": null,
   "id": "3ba50e3f-6883-4dc2-ade4-78203e28d158",
   "metadata": {},
   "outputs": [],
   "source": [
    "#ACM = em.read_csv_metadata(r'ACM3_meta.csv', key='id')\n",
    "#DBLP = em.read_csv_metadata(r'DBLP3_meta.csv', key='id')"
   ]
  },
  {
   "cell_type": "code",
   "execution_count": null,
   "id": "0588e103-f1b7-452b-b0ba-d137eae22ff4",
   "metadata": {},
   "outputs": [],
   "source": [
    "#b1 = em.AttrEquivalenceBlocker() # , 'title', 'authors', 'venue', 'year'"
   ]
  },
  {
   "cell_type": "code",
   "execution_count": null,
   "id": "14ffab11-530d-4ab9-a48c-f2f10ebd5771",
   "metadata": {},
   "outputs": [],
   "source": [
    "#C1 = b1.block_tables(ACM, DBLP, 'title', 'title', \n",
    " #    l_output_attrs=['title', 'authors', 'venue', 'year'], \n",
    "  #   r_output_attrs=['title', 'authors', 'venue', 'year'], allow_missing=True)"
   ]
  },
  {
   "cell_type": "code",
   "execution_count": null,
   "id": "f6b51827-2887-42f4-a34f-6e25870e4abc",
   "metadata": {},
   "outputs": [],
   "source": [
    "import recordlinkage"
   ]
  },
  {
   "cell_type": "code",
   "execution_count": 369,
   "id": "68379701-87c1-4b1f-b31c-cb8c93812e03",
   "metadata": {},
   "outputs": [],
   "source": [
    "indexer = recordlinkage.Index()\n",
    "#indexer = Block(left_on=['year', 'venue'],\n",
    "#                right_on=['year', 'venue'])\n",
    "indexer.block(['venue', 'year'])\n",
    "#indexer.full()\n",
    "candidate_links = indexer.index(data_ACM, data_DBLP)"
   ]
  },
  {
   "cell_type": "code",
   "execution_count": 370,
   "id": "85d70280-9dc4-4a8a-875c-594c8a3a35d7",
   "metadata": {},
   "outputs": [
    {
     "name": "stdout",
     "output_type": "stream",
     "text": [
      "MultiIndex([(   0,    5),\n",
      "            (   0,   30),\n",
      "            (   0,   65),\n",
      "            (   0,  101),\n",
      "            (   0,  127),\n",
      "            (   0,  166),\n",
      "            (   0,  230),\n",
      "            (   0,  232),\n",
      "            (   0,  269),\n",
      "            (   0,  323),\n",
      "            ...\n",
      "            (2290, 1465),\n",
      "            (2290, 1562),\n",
      "            (2290, 1609),\n",
      "            (2290, 1637),\n",
      "            (2290, 1686),\n",
      "            (2290, 1798),\n",
      "            (2290, 1991),\n",
      "            (2290, 2135),\n",
      "            (2290, 2338),\n",
      "            (2290, 2511)],\n",
      "           length=151972)\n"
     ]
    }
   ],
   "source": [
    "print(candidate_links)"
   ]
  },
  {
   "cell_type": "code",
   "execution_count": 371,
   "id": "28f17a5a-ddbb-4052-b169-2774c30523c7",
   "metadata": {},
   "outputs": [
    {
     "data": {
      "text/plain": [
       "'compare_cl = recordlinkage.Compare()\\ncompare_cl.exact(\"venue\", \"venue\", label=\"venue\")\\ncompare_cl.string(\"title\", \"title\", method=\"levenshtein\", label=\"title\")\\ncompare_cl.exact(\"year\", \"year\", label=\"year\")\\ncompare_cl.string(\"authors\", \"authors\", method=\"levenshtein\", label=\"authors\")\\nfeatures = compare_cl.compute(candidate_links, data_ACM, data_DBLP)\\nprint(features)'"
      ]
     },
     "execution_count": 371,
     "metadata": {},
     "output_type": "execute_result"
    }
   ],
   "source": [
    "\"\"\"compare_cl = recordlinkage.Compare()\n",
    "compare_cl.exact(\"venue\", \"venue\", label=\"venue\")\n",
    "compare_cl.string(\"title\", \"title\", method=\"levenshtein\", label=\"title\")\n",
    "compare_cl.exact(\"year\", \"year\", label=\"year\")\n",
    "compare_cl.string(\"authors\", \"authors\", method=\"levenshtein\", label=\"authors\")\n",
    "features = compare_cl.compute(candidate_links, data_ACM, data_DBLP)\n",
    "print(features)\"\"\""
   ]
  },
  {
   "cell_type": "code",
   "execution_count": 372,
   "id": "519cb072-06c5-40e0-a147-b8765ec65b9c",
   "metadata": {},
   "outputs": [],
   "source": [
    "compare_cl = recordlinkage.Compare()\n",
    "compare_cl.exact(\"venue\", \"venue\", label=\"venue\")\n",
    "compare_cl.string(\"title\", \"title\", method=\"jarowinkler\", label=\"title\")\n",
    "compare_cl.exact(\"year\", \"year\", label=\"year\")\n",
    "compare_cl.string(\"authors\", \"authors\", method=\"jarowinkler\", label=\"authors\")\n",
    "features = compare_cl.compute(candidate_links, data_ACM, data_DBLP)"
   ]
  },
  {
   "cell_type": "code",
   "execution_count": 373,
   "id": "8f87c424-e10d-4c3c-862f-d4dc103aeda7",
   "metadata": {},
   "outputs": [
    {
     "data": {
      "text/html": [
       "<div>\n",
       "<style scoped>\n",
       "    .dataframe tbody tr th:only-of-type {\n",
       "        vertical-align: middle;\n",
       "    }\n",
       "\n",
       "    .dataframe tbody tr th {\n",
       "        vertical-align: top;\n",
       "    }\n",
       "\n",
       "    .dataframe thead th {\n",
       "        text-align: right;\n",
       "    }\n",
       "</style>\n",
       "<table border=\"1\" class=\"dataframe\">\n",
       "  <thead>\n",
       "    <tr style=\"text-align: right;\">\n",
       "      <th></th>\n",
       "      <th></th>\n",
       "      <th>venue</th>\n",
       "      <th>title</th>\n",
       "      <th>year</th>\n",
       "      <th>authors</th>\n",
       "    </tr>\n",
       "  </thead>\n",
       "  <tbody>\n",
       "    <tr>\n",
       "      <th rowspan=\"5\" valign=\"top\">0</th>\n",
       "      <th>5</th>\n",
       "      <td>1</td>\n",
       "      <td>0.641764</td>\n",
       "      <td>1</td>\n",
       "      <td>0.545622</td>\n",
       "    </tr>\n",
       "    <tr>\n",
       "      <th>30</th>\n",
       "      <td>1</td>\n",
       "      <td>0.675314</td>\n",
       "      <td>1</td>\n",
       "      <td>0.572156</td>\n",
       "    </tr>\n",
       "    <tr>\n",
       "      <th>65</th>\n",
       "      <td>1</td>\n",
       "      <td>0.663559</td>\n",
       "      <td>1</td>\n",
       "      <td>0.376344</td>\n",
       "    </tr>\n",
       "    <tr>\n",
       "      <th>101</th>\n",
       "      <td>1</td>\n",
       "      <td>0.641602</td>\n",
       "      <td>1</td>\n",
       "      <td>0.534008</td>\n",
       "    </tr>\n",
       "    <tr>\n",
       "      <th>127</th>\n",
       "      <td>1</td>\n",
       "      <td>0.543363</td>\n",
       "      <td>1</td>\n",
       "      <td>0.505615</td>\n",
       "    </tr>\n",
       "    <tr>\n",
       "      <th>...</th>\n",
       "      <th>...</th>\n",
       "      <td>...</td>\n",
       "      <td>...</td>\n",
       "      <td>...</td>\n",
       "      <td>...</td>\n",
       "    </tr>\n",
       "    <tr>\n",
       "      <th rowspan=\"5\" valign=\"top\">2290</th>\n",
       "      <th>1798</th>\n",
       "      <td>1</td>\n",
       "      <td>0.538269</td>\n",
       "      <td>1</td>\n",
       "      <td>0.558967</td>\n",
       "    </tr>\n",
       "    <tr>\n",
       "      <th>1991</th>\n",
       "      <td>1</td>\n",
       "      <td>0.585738</td>\n",
       "      <td>1</td>\n",
       "      <td>0.720678</td>\n",
       "    </tr>\n",
       "    <tr>\n",
       "      <th>2135</th>\n",
       "      <td>1</td>\n",
       "      <td>0.550294</td>\n",
       "      <td>1</td>\n",
       "      <td>0.596184</td>\n",
       "    </tr>\n",
       "    <tr>\n",
       "      <th>2338</th>\n",
       "      <td>1</td>\n",
       "      <td>0.507937</td>\n",
       "      <td>1</td>\n",
       "      <td>0.639254</td>\n",
       "    </tr>\n",
       "    <tr>\n",
       "      <th>2511</th>\n",
       "      <td>1</td>\n",
       "      <td>0.526685</td>\n",
       "      <td>1</td>\n",
       "      <td>0.619514</td>\n",
       "    </tr>\n",
       "  </tbody>\n",
       "</table>\n",
       "<p>151972 rows × 4 columns</p>\n",
       "</div>"
      ],
      "text/plain": [
       "           venue     title  year   authors\n",
       "0    5         1  0.641764     1  0.545622\n",
       "     30        1  0.675314     1  0.572156\n",
       "     65        1  0.663559     1  0.376344\n",
       "     101       1  0.641602     1  0.534008\n",
       "     127       1  0.543363     1  0.505615\n",
       "...          ...       ...   ...       ...\n",
       "2290 1798      1  0.538269     1  0.558967\n",
       "     1991      1  0.585738     1  0.720678\n",
       "     2135      1  0.550294     1  0.596184\n",
       "     2338      1  0.507937     1  0.639254\n",
       "     2511      1  0.526685     1  0.619514\n",
       "\n",
       "[151972 rows x 4 columns]"
      ]
     },
     "execution_count": 373,
     "metadata": {},
     "output_type": "execute_result"
    }
   ],
   "source": [
    "features"
   ]
  },
  {
   "cell_type": "code",
   "execution_count": 374,
   "id": "fc653d6b-45a2-408d-b37b-d4528f83b52c",
   "metadata": {
    "tags": []
   },
   "outputs": [],
   "source": [
    "matches = features[features[['title','authors']].sum(axis=1)>= 1.56]"
   ]
  },
  {
   "cell_type": "code",
   "execution_count": 375,
   "id": "205b721c-b764-4cbd-ad80-9cbc76c40c73",
   "metadata": {
    "tags": []
   },
   "outputs": [],
   "source": [
    "matches.to_csv('matches.csv')"
   ]
  },
  {
   "cell_type": "code",
   "execution_count": 376,
   "id": "ad1c46fe-f429-4ff5-91ca-8d408bb4fa27",
   "metadata": {},
   "outputs": [],
   "source": [
    "matches.index.names = ['ACM','DBLP']\n",
    "matches=matches.reset_index()\n",
    "matches_new=matches.loc[matches.groupby(['ACM'])['DBLP'].idxmax()]\n",
    "links_pred=matches_new.set_index(['ACM', 'DBLP'])"
   ]
  },
  {
   "cell_type": "code",
   "execution_count": 377,
   "id": "49c09a56-9dee-4e75-aaaf-0d446b177570",
   "metadata": {},
   "outputs": [],
   "source": [
    "links_pred.to_csv('predictions.csv')"
   ]
  },
  {
   "cell_type": "code",
   "execution_count": 378,
   "id": "5bda92aa-35bf-4d8f-8281-e3c53b2ad552",
   "metadata": {},
   "outputs": [
    {
     "name": "stdout",
     "output_type": "stream",
     "text": [
      "id                                                                                                304589\n",
      "title                                       WORLD WIDE DATABASE-INTEGRATING THE WEB, CORBA AND DATABASES\n",
      "authors    ATHMAN BOUGUETTAYA, BOUALEM BENATALLAH, LILY HENDRA, JAMES BEARD, KEVIN SMITH, MOURAD QUZZANI\n",
      "venue                                                                                  SIGMOD Conference\n",
      "year                                                                                                1999\n",
      "Name: 2, dtype: object\n",
      "id                                                                           conf/sigmod/BouguettayaBH99\n",
      "title                                    WORLD WIDE DATABASE - INTEGRATING THE WEB, CORBA, AND DATABASES\n",
      "authors    KEVIN SMITH, ATHMAN BOUGUETTAYA, MOURAD OUZZANI, JAMES BEARD, LILY HENDRA, BOUALEM BENATALLAH\n",
      "venue                                                                                  SIGMOD Conference\n",
      "year                                                                                                1999\n",
      "Name: 440, dtype: object\n"
     ]
    }
   ],
   "source": [
    "print(data_ACM.iloc[2])\n",
    "print(data_DBLP.iloc[440])"
   ]
  },
  {
   "cell_type": "code",
   "execution_count": 379,
   "id": "6a103421-4e35-49bc-ac39-96d13c8030f7",
   "metadata": {},
   "outputs": [
    {
     "name": "stdout",
     "output_type": "stream",
     "text": [
      "id                                                                                         306124\n",
      "title      DISCOVERING INTERNET MARKETING INTELLIGENCE THROUGH ONLINE ANALYTICAL WEB USAGE MINING\n",
      "authors                                                      ALEX G. BUCHNER, MAURICE D. MULVENNA\n",
      "venue                                                                               SIGMOD Record\n",
      "year                                                                                         1998\n",
      "Name: 11, dtype: object\n",
      "id                                        journals/sigmod/Bussler02\n",
      "title      THE ROLE OF B2B ENGINES IN B2B INTEGRATION ARCHITECTURES\n",
      "authors                                           CHRISTOPH BUSSLER\n",
      "venue                                                 SIGMOD Record\n",
      "year                                                           2002\n",
      "Name: 1275, dtype: object\n"
     ]
    }
   ],
   "source": [
    "print(data_ACM.iloc[11])\n",
    "print(data_DBLP.iloc[1258])"
   ]
  },
  {
   "cell_type": "code",
   "execution_count": 380,
   "id": "21c275f7-d55a-4bf1-9a12-bbc26056c9b3",
   "metadata": {},
   "outputs": [],
   "source": [
    "perf_match = pd.read_csv('DBLP-ACM_perfectMapping.csv', header=0, encoding=\"utf-8\")"
   ]
  },
  {
   "cell_type": "code",
   "execution_count": 381,
   "id": "4f5c49e8-ba73-4b14-8811-59e4cca1eb33",
   "metadata": {},
   "outputs": [
    {
     "name": "stdout",
     "output_type": "stream",
     "text": [
      "       idACM  idDBLP\n",
      "0      301.0   143.0\n",
      "1      306.0  1530.0\n",
      "2      292.0   310.0\n",
      "3      289.0  2090.0\n",
      "4      308.0  1744.0\n",
      "...      ...     ...\n",
      "2219   597.0   781.0\n",
      "2220  1736.0  2004.0\n",
      "2221   523.0  2260.0\n",
      "2222     NaN   178.0\n",
      "2223   925.0  2368.0\n",
      "\n",
      "[2224 rows x 2 columns]\n"
     ]
    }
   ],
   "source": [
    "d_1 = data_ACM['id'].to_dict()\n",
    "d_1_flip = {y: x for x, y in d_1.items()}\n",
    "d_2 = data_DBLP['id'].to_dict()\n",
    "d_2_flip = {y: x for x, y in d_2.items()}\n",
    "perf_match['idACM'] = perf_match['idACM'].map(d_1_flip)\n",
    "perf_match['idDBLP'] = perf_match['idDBLP'].map(d_2_flip)\n",
    "perf_match = perf_match[['idACM', 'idDBLP']]\n",
    "print(perf_match)\n",
    "links_true = pd.MultiIndex.from_frame(perf_match)"
   ]
  },
  {
   "cell_type": "code",
   "execution_count": 382,
   "id": "3700da96-8074-4ebf-a18d-36840ff4d993",
   "metadata": {},
   "outputs": [],
   "source": [
    "f_score=recordlinkage.fscore(links_true, links_pred.index)"
   ]
  },
  {
   "cell_type": "code",
   "execution_count": 383,
   "id": "ca755fb0-bc24-4126-b85c-559773cb8530",
   "metadata": {},
   "outputs": [
    {
     "name": "stdout",
     "output_type": "stream",
     "text": [
      "0.9449626865671641\n"
     ]
    }
   ],
   "source": [
    "print(f_score)"
   ]
  },
  {
   "cell_type": "markdown",
   "id": "3d80dd8e-41a9-40f3-a627-31721c7bf712",
   "metadata": {},
   "source": [
    "# Task 2"
   ]
  },
  {
   "cell_type": "code",
   "execution_count": 384,
   "id": "881c49f7-9705-4de2-8a8c-8f6b3bc83b6a",
   "metadata": {},
   "outputs": [],
   "source": [
    "features['label'] = 0"
   ]
  },
  {
   "cell_type": "code",
   "execution_count": 385,
   "id": "ac348d6e-b171-46f9-8287-002c0b52029c",
   "metadata": {},
   "outputs": [],
   "source": [
    "for i in links_pred.index.tolist():\n",
    "    features.loc[i, 'label'] = 1"
   ]
  },
  {
   "cell_type": "code",
   "execution_count": null,
   "id": "98ab71af-6e6c-406a-a414-517e12a0a9b7",
   "metadata": {},
   "outputs": [],
   "source": []
  }
 ],
 "metadata": {
  "kernelspec": {
   "display_name": "Python 3 (ipykernel)",
   "language": "python",
   "name": "python3"
  },
  "language_info": {
   "codemirror_mode": {
    "name": "ipython",
    "version": 3
   },
   "file_extension": ".py",
   "mimetype": "text/x-python",
   "name": "python",
   "nbconvert_exporter": "python",
   "pygments_lexer": "ipython3",
   "version": "3.9.7"
  }
 },
 "nbformat": 4,
 "nbformat_minor": 5
}
