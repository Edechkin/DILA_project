{
 "cells": [
  {
   "cell_type": "code",
   "execution_count": 770,
   "id": "f6ee6a9c-a988-4dbc-b6ce-72047e97361b",
   "metadata": {},
   "outputs": [],
   "source": [
    "import html\n",
    "from bs4 import BeautifulSoup\n",
    "import pandas as pd\n",
    "from unidecode import unidecode\n",
    "import numpy as np\n",
    "from sklearn.model_selection import train_test_split\n",
    "import py_entitymatching as em\n",
    "from sklearn.linear_model import LogisticRegression\n",
    "import recordlinkage\n",
    "from sklearn import svm\n",
    "from sklearn.metrics import f1_score\n",
    "from sklearn.model_selection import GridSearchCV"
   ]
  },
  {
   "cell_type": "markdown",
   "id": "067c5d8e-0fec-44f6-b9a8-d5780788bec8",
   "metadata": {
    "tags": []
   },
   "source": [
    "# Data cleaning:"
   ]
  },
  {
   "cell_type": "code",
   "execution_count": 771,
   "id": "eb895fb7-630a-4e1b-b39e-7f03b29e5dd0",
   "metadata": {},
   "outputs": [],
   "source": [
    "data_ACM = pd.read_csv(r'ACM.csv')\n",
    "data_DBLP = pd.read_csv(r'DBLP2_new.csv')\n",
    "#data_ACM['venue'] = data_ACM['venue'].to_string()"
   ]
  },
  {
   "cell_type": "code",
   "execution_count": 772,
   "id": "891bd26a-c802-4b7e-9549-6b883d384f97",
   "metadata": {},
   "outputs": [
    {
     "data": {
      "text/plain": [
       "0                                    International Conference on Management of Data\n",
       "1                                    International Conference on Management of Data\n",
       "2                                    International Conference on Management of Data\n",
       "3                                    International Conference on Management of Data\n",
       "4                                    International Conference on Management of Data\n",
       "                                           ...                                     \n",
       "2289                                                          Very Large Data Bases\n",
       "2290    The VLDB Journal &mdash; The International Journal on Very Large Data Bases\n",
       "2291                                                          Very Large Data Bases\n",
       "2292                                                              ACM SIGMOD Record\n",
       "2293                                                          Very Large Data Bases\n",
       "Name: venue, Length: 2294, dtype: object"
      ]
     },
     "execution_count": 772,
     "metadata": {},
     "output_type": "execute_result"
    }
   ],
   "source": [
    "data_ACM['venue'].str.strip()"
   ]
  },
  {
   "cell_type": "code",
   "execution_count": 773,
   "id": "e8e24f29-2f3d-49ca-b282-54a9bb65b047",
   "metadata": {},
   "outputs": [],
   "source": [
    "#data_ACM.drop_duplicates(subset=['title', 'authors', 'venue', 'year'],inplace=True)\n",
    "#data_DBLP.drop_duplicates(subset=['title', 'authors', 'venue', 'year'],inplace=True)"
   ]
  },
  {
   "cell_type": "code",
   "execution_count": 774,
   "id": "ad3ab9ae-3a75-4a7b-826e-9047d6c329a2",
   "metadata": {},
   "outputs": [],
   "source": [
    "data_ACM['authors'] = data_ACM['authors'].apply(lambda x: BeautifulSoup(str(x), \"html.parser\"))"
   ]
  },
  {
   "cell_type": "code",
   "execution_count": 775,
   "id": "92b99e6f-e905-4170-8a36-ca38bc20e5da",
   "metadata": {},
   "outputs": [],
   "source": [
    "#data_ACM['venue'] = data_ACM['venue'].apply(lambda x: BeautifulSoup(str(x), \"html.parser\"))\n",
    "data_ACM['venue'] = data_ACM['venue'].apply(lambda x: html.unescape(x) if isinstance(x, str) else x)"
   ]
  },
  {
   "cell_type": "code",
   "execution_count": 776,
   "id": "6ee08c3c-1b1d-4952-b565-0a1938f7a722",
   "metadata": {},
   "outputs": [],
   "source": [
    "data_ACM['authors'] = data_ACM['authors'].apply(lambda x: unidecode(str(x)))\n",
    "data_DBLP['authors'] = data_DBLP['authors'].apply(lambda x: unidecode(str(x)))"
   ]
  },
  {
   "cell_type": "code",
   "execution_count": 777,
   "id": "bbbb86c0-7cc8-4b3b-80f1-55d16c7d110f",
   "metadata": {},
   "outputs": [],
   "source": [
    "data_ACM['title'] = data_ACM['title'].apply(lambda x: x.upper())\n",
    "data_ACM['authors'] = data_ACM['authors'].apply(lambda x: x.upper())"
   ]
  },
  {
   "cell_type": "code",
   "execution_count": 778,
   "id": "9dd4c878-fc71-4c6e-b43d-542830b3a5c8",
   "metadata": {},
   "outputs": [],
   "source": [
    "data_DBLP['title'] = data_DBLP['title'].apply(lambda x: x.upper())\n",
    "data_DBLP['authors'] = data_DBLP['authors'].apply(lambda x: x.upper())"
   ]
  },
  {
   "cell_type": "code",
   "execution_count": 779,
   "id": "05786ae1-b979-491c-87f8-cc1d7e526b21",
   "metadata": {},
   "outputs": [],
   "source": [
    "data_ACM.replace(\"Very Large Data Bases\", \"VLDB\", inplace=True)\n",
    "data_ACM.replace(\"International Conference on Management of Data\", \"SIGMOD Conference\", inplace=True)\n",
    "data_ACM.replace(\"ACM SIGMOD Record \", \"SIGMOD Record\", inplace=True)\n",
    "data_ACM.replace(\"ACM Transactions on Database Systems (TODS) \", \"ACM Trans. Database Syst. \", inplace=True)\n",
    "data_ACM.replace(\"The VLDB Journal — The International Journal on Very Large Data Bases \", \"VLDB J.\", inplace=True)"
   ]
  },
  {
   "cell_type": "code",
   "execution_count": 780,
   "id": "d4e3599a-29c6-4bb0-b4e8-5fb1260b9274",
   "metadata": {},
   "outputs": [],
   "source": [
    "#data_ACM.drop_duplicates(subset=['title', 'authors', 'venue', 'year'],inplace=True)\n",
    "#data_DBLP.drop_duplicates(subset=['title', 'authors', 'venue', 'year'],inplace=True)"
   ]
  },
  {
   "cell_type": "code",
   "execution_count": 781,
   "id": "8cfa75f9-9c4b-441b-9af9-d62940aac518",
   "metadata": {},
   "outputs": [],
   "source": [
    "data_ACM.to_csv(r'ACM3.csv', encoding='utf-8', index=False)\n",
    "data_DBLP.to_csv(r'DBLP3.csv', encoding='utf-8', index=False)"
   ]
  },
  {
   "cell_type": "code",
   "execution_count": 782,
   "id": "d2475529-9a00-4ec9-8531-8d1238428e3b",
   "metadata": {},
   "outputs": [],
   "source": [
    "#data_ACM['venue'] = data_ACM['venue'].to_string()"
   ]
  },
  {
   "cell_type": "code",
   "execution_count": 783,
   "id": "3bd3ee7f-648b-4962-a95f-43638b10e72a",
   "metadata": {},
   "outputs": [],
   "source": [
    "#for col in data_ACM.columns:\n",
    "#   data_ACM[col] = data_ACM[col].apply(lambda x: html.unescape(x) if isinstance(x, str) else x)"
   ]
  },
  {
   "cell_type": "code",
   "execution_count": 784,
   "id": "f11c8c24-c851-4509-9d51-28f46c41c8eb",
   "metadata": {},
   "outputs": [],
   "source": [
    "#data_ACM.title.str.lstrip()\n",
    "#data_ACM.authors.str.lstrip()\n",
    "#data_ACM.venue.str.lstrip()\n",
    "#print(data_ACM.loc[2160, 'venue'])\n",
    "#print(data_ACM.dtypes)"
   ]
  },
  {
   "cell_type": "code",
   "execution_count": 785,
   "id": "df288fa8-aded-4501-9a90-c2560e389fe7",
   "metadata": {},
   "outputs": [],
   "source": [
    "#data_ACM.drop_duplicates(subset=['title', 'authors', 'venue', 'year'],inplace=True)\n",
    "#data_DBLP.drop_duplicates(subset=['title', 'authors', 'venue', 'year'],inplace=True)"
   ]
  },
  {
   "cell_type": "code",
   "execution_count": 786,
   "id": "587a2eb5-1245-425b-bc3b-a7a5276315f0",
   "metadata": {},
   "outputs": [],
   "source": [
    "#d2['authors'] = data_ACM.apply(lambda x : x.split(\",\"))\n",
    "#for i, row in data_ACM.iterrows():\n",
    " #   data_ACM.at[i, 'authors'] = data_ACM.at[i, 'authors'].split(\",\")\n",
    "#data_ACM['authors'] = data_ACM['authors'].str.split(\", \")\n",
    "#data_ACM['authors'] = data_ACM['authors'].str.split(\" \")"
   ]
  },
  {
   "cell_type": "code",
   "execution_count": 787,
   "id": "afae02c9-02c4-4fb7-9dd5-0cba1ac462fa",
   "metadata": {},
   "outputs": [],
   "source": [
    "#html_data=unicodedata.normalize('NFKD',table.to_html()).encode('ascii','ignore')"
   ]
  },
  {
   "cell_type": "markdown",
   "id": "6374ded7-8c6c-4f47-a946-9c76f5311896",
   "metadata": {
    "tags": []
   },
   "source": [
    "# Blocking:"
   ]
  },
  {
   "cell_type": "markdown",
   "id": "fe09f888-3c9f-4c1e-853a-1f4695fa1e26",
   "metadata": {
    "tags": []
   },
   "source": [
    "The approaches in this section didn't work"
   ]
  },
  {
   "cell_type": "code",
   "execution_count": 788,
   "id": "38a9f32c-2ae4-43c5-95a4-051579ee3c7d",
   "metadata": {},
   "outputs": [
    {
     "name": "stderr",
     "output_type": "stream",
     "text": [
      "File already exists at ACM3_meta.csv; Overwriting it\n",
      "Metadata file already exists at ACM3_meta.metadata. Overwriting it\n",
      "File already exists at DBLP3_meta.csv; Overwriting it\n",
      "Metadata file already exists at DBLP3_meta.metadata. Overwriting it\n"
     ]
    },
    {
     "data": {
      "text/plain": [
       "True"
      ]
     },
     "execution_count": 788,
     "metadata": {},
     "output_type": "execute_result"
    }
   ],
   "source": [
    "em.set_key(data_ACM, 'id')\n",
    "em.set_key(data_DBLP, 'id')\n",
    "em.to_csv_metadata(data_ACM, r'ACM3_meta.csv')\n",
    "em.to_csv_metadata(data_ACM, r'DBLP3_meta.csv')"
   ]
  },
  {
   "cell_type": "code",
   "execution_count": 789,
   "id": "f148bf4f-be6d-41cf-a669-8e5d51ad443f",
   "metadata": {},
   "outputs": [
    {
     "name": "stdout",
     "output_type": "stream",
     "text": [
      "       _id  ltable_id  rtable_id  \\\n",
      "0        0     304586     304586   \n",
      "1        1     304587     304587   \n",
      "2        2     304589     304589   \n",
      "3        3     304590     304590   \n",
      "4        4     304582     304582   \n",
      "...    ...        ...        ...   \n",
      "2472  2472     950483     950483   \n",
      "2473  2473     672977     672977   \n",
      "2474  2474     672980     672980   \n",
      "2475  2475     945741     945741   \n",
      "2476  2476     672979     672979   \n",
      "\n",
      "                                                                                             ltable_title  \\\n",
      "0                                                    THE WASA2 OBJECT-ORIENTED WORKFLOW MANAGEMENT SYSTEM   \n",
      "1                                 A USER-CENTERED INTERFACE FOR QUERYING DISTRIBUTED MULTIMEDIA DATABASES   \n",
      "2                                            WORLD WIDE DATABASE-INTEGRATING THE WEB, CORBA AND DATABASES   \n",
      "3                                                                XML-BASED INFORMATION MEDIATION WITH MIX   \n",
      "4                                                    THE CCUBE CONSTRAINT OBJECT-ORIENTED DATABASE SYSTEM   \n",
      "...                                                                                                   ...   \n",
      "2472                                                                         A CASE FOR FRACTURED MIRRORS   \n",
      "2473                                                            DUAL-BUFFERING STRATEGIES IN OBJECT BASES   \n",
      "2474                                                   GRAPHDB: MODELING AND QUERYING GRAPHS IN DATABASES   \n",
      "2475  REVIEW OF THE DATA WAREHOUSE TOOLKIT: THE COMPLETE GUIDE TO DIMENSIONAL MODELING (2ND EDITION) B...   \n",
      "2476                                                       BULK LOADING INTO AN OODB: A PERFORMANCE STUDY   \n",
      "\n",
      "                                                                                           ltable_authors  \\\n",
      "0                                                                         GOTTFRIED VOSSEN, MATHIAS WESKE   \n",
      "1                                                                       ISABEL F. CRUZ, KIMBERLY M. JAMES   \n",
      "2           ATHMAN BOUGUETTAYA, BOUALEM BENATALLAH, LILY HENDRA, JAMES BEARD, KEVIN SMITH, MOURAD QUZZANI   \n",
      "3     CHAITAN BARU, AMARNATH GUPTA, BERTRAM LUDASCHER, RICHARD MARCIANO, YANNIS PAPAKONSTANTINOU, PAVE...   \n",
      "4                                     ALEXANDER BRODSKY, VICTOR E. SEGAL, JIA CHEN, PAVAL A. EXARKHOPOULO   \n",
      "...                                                                                                   ...   \n",
      "2472                                                       RAVISHANKAR RAMAMURTHY, DAVID J. DEWITT, QI SU   \n",
      "2473                                                                       ALFONS KEMPER, DONALD KOSSMANN   \n",
      "2474                                                                                  RALF HARTMUT GUTING   \n",
      "2475                                                                                ALEXANDER A. ANISIMOV   \n",
      "2476                                                                 JANET L. WIENER, JEFFREY F. NAUGHTON   \n",
      "\n",
      "           ltable_venue  ltable_year  \\\n",
      "0     SIGMOD Conference         1999   \n",
      "1     SIGMOD Conference         1999   \n",
      "2     SIGMOD Conference         1999   \n",
      "3     SIGMOD Conference         1999   \n",
      "4     SIGMOD Conference         1999   \n",
      "...                 ...          ...   \n",
      "2472            VLDB J.         2003   \n",
      "2473               VLDB         1994   \n",
      "2474               VLDB         1994   \n",
      "2475      SIGMOD Record         2003   \n",
      "2476               VLDB         1994   \n",
      "\n",
      "                                                                                             rtable_title  \\\n",
      "0                                                    THE WASA2 OBJECT-ORIENTED WORKFLOW MANAGEMENT SYSTEM   \n",
      "1                                 A USER-CENTERED INTERFACE FOR QUERYING DISTRIBUTED MULTIMEDIA DATABASES   \n",
      "2                                            WORLD WIDE DATABASE-INTEGRATING THE WEB, CORBA AND DATABASES   \n",
      "3                                                                XML-BASED INFORMATION MEDIATION WITH MIX   \n",
      "4                                                    THE CCUBE CONSTRAINT OBJECT-ORIENTED DATABASE SYSTEM   \n",
      "...                                                                                                   ...   \n",
      "2472                                                                         A CASE FOR FRACTURED MIRRORS   \n",
      "2473                                                            DUAL-BUFFERING STRATEGIES IN OBJECT BASES   \n",
      "2474                                                   GRAPHDB: MODELING AND QUERYING GRAPHS IN DATABASES   \n",
      "2475  REVIEW OF THE DATA WAREHOUSE TOOLKIT: THE COMPLETE GUIDE TO DIMENSIONAL MODELING (2ND EDITION) B...   \n",
      "2476                                                       BULK LOADING INTO AN OODB: A PERFORMANCE STUDY   \n",
      "\n",
      "                                                                                           rtable_authors  \\\n",
      "0                                                                         GOTTFRIED VOSSEN, MATHIAS WESKE   \n",
      "1                                                                       ISABEL F. CRUZ, KIMBERLY M. JAMES   \n",
      "2           ATHMAN BOUGUETTAYA, BOUALEM BENATALLAH, LILY HENDRA, JAMES BEARD, KEVIN SMITH, MOURAD QUZZANI   \n",
      "3     CHAITAN BARU, AMARNATH GUPTA, BERTRAM LUDASCHER, RICHARD MARCIANO, YANNIS PAPAKONSTANTINOU, PAVE...   \n",
      "4                                     ALEXANDER BRODSKY, VICTOR E. SEGAL, JIA CHEN, PAVAL A. EXARKHOPOULO   \n",
      "...                                                                                                   ...   \n",
      "2472                                                       RAVISHANKAR RAMAMURTHY, DAVID J. DEWITT, QI SU   \n",
      "2473                                                                       ALFONS KEMPER, DONALD KOSSMANN   \n",
      "2474                                                                                  RALF HARTMUT GUTING   \n",
      "2475                                                                                ALEXANDER A. ANISIMOV   \n",
      "2476                                                                 JANET L. WIENER, JEFFREY F. NAUGHTON   \n",
      "\n",
      "           rtable_venue  rtable_year  \n",
      "0     SIGMOD Conference         1999  \n",
      "1     SIGMOD Conference         1999  \n",
      "2     SIGMOD Conference         1999  \n",
      "3     SIGMOD Conference         1999  \n",
      "4     SIGMOD Conference         1999  \n",
      "...                 ...          ...  \n",
      "2472            VLDB J.         2003  \n",
      "2473               VLDB         1994  \n",
      "2474               VLDB         1994  \n",
      "2475      SIGMOD Record         2003  \n",
      "2476               VLDB         1994  \n",
      "\n",
      "[2477 rows x 11 columns]\n"
     ]
    }
   ],
   "source": [
    "print(C1)"
   ]
  },
  {
   "cell_type": "code",
   "execution_count": 790,
   "id": "6ed91ab9-9749-4f2d-828d-cf1cb0aef442",
   "metadata": {},
   "outputs": [],
   "source": [
    "C1.to_csv(r'C1.csv', encoding='utf-8', index=False)"
   ]
  },
  {
   "cell_type": "code",
   "execution_count": 791,
   "id": "2bd9048a-18bd-44bc-b531-3edae6cccdc1",
   "metadata": {},
   "outputs": [],
   "source": [
    "dfA =C1[['ltable_id', 'ltable_authors', 'ltable_title', 'ltable_venue', 'ltable_year']].copy()\n",
    "#['ltable_id', 'ltable_authors', 'ltable_title', 'ltable_venue', 'ltable_year']\n",
    "dfB = C1[['rtable_id', 'rtable_authors', 'rtable_title', 'rtable_venue', 'rtable_year']].copy()\n",
    "#['rtable_id', 'rtable_authors', 'rtable_title', 'rtable_venue', 'rtable_year']"
   ]
  },
  {
   "cell_type": "code",
   "execution_count": 792,
   "id": "c27d6163-c1e4-4683-865b-ae016bd98781",
   "metadata": {},
   "outputs": [],
   "source": [
    "x = C1.groupby('ltable_title')"
   ]
  },
  {
   "cell_type": "code",
   "execution_count": 793,
   "id": "4f52d061-75ba-4a52-880d-b0fae4c181ff",
   "metadata": {},
   "outputs": [
    {
     "name": "stdout",
     "output_type": "stream",
     "text": [
      "<pandas.core.groupby.generic.DataFrameGroupBy object at 0x0000022608AEC6D0>\n"
     ]
    }
   ],
   "source": [
    "print(x)"
   ]
  },
  {
   "cell_type": "code",
   "execution_count": 794,
   "id": "ba719acd-10de-4d9b-af39-922d668bd269",
   "metadata": {},
   "outputs": [],
   "source": [
    "stacked = pd.concat([data_ACM, data_DBLP], keys= ['ACM', 'DBLP'], ignore_index=True)\n",
    "#dfA_title = ACM.groupby('title')\n",
    "#dfB_title = DBLP.groupby('title')"
   ]
  },
  {
   "cell_type": "code",
   "execution_count": 795,
   "id": "1c42cb5b-e179-43c1-89dd-0b3179c6259f",
   "metadata": {},
   "outputs": [],
   "source": [
    "stacked.to_csv(r'stacked.csv', encoding='utf-8', index=False)"
   ]
  },
  {
   "cell_type": "code",
   "execution_count": 796,
   "id": "6c22afd9-8be2-4438-ae1d-0c14fde14bbe",
   "metadata": {},
   "outputs": [],
   "source": [
    "grouped = stacked.groupby('title')"
   ]
  },
  {
   "cell_type": "code",
   "execution_count": 797,
   "id": "470eed8c-a7e3-4d60-b409-df32af6b54c7",
   "metadata": {},
   "outputs": [
    {
     "name": "stdout",
     "output_type": "stream",
     "text": [
      "2791\n"
     ]
    }
   ],
   "source": [
    "print(len(stacked.groupby('title')))"
   ]
  },
  {
   "cell_type": "code",
   "execution_count": 798,
   "id": "45cb34ab-4022-4bca-a476-0a169e44ad6a",
   "metadata": {},
   "outputs": [
    {
     "name": "stdout",
     "output_type": "stream",
     "text": [
      "4910\n"
     ]
    }
   ],
   "source": [
    "print(len(stacked))"
   ]
  },
  {
   "cell_type": "code",
   "execution_count": 799,
   "id": "30aa2f08-bd57-436a-acf4-9d92d8c3b348",
   "metadata": {},
   "outputs": [],
   "source": [
    "abc = pd.DataFrame(columns=['idDBLP', 'idACM'])"
   ]
  },
  {
   "cell_type": "code",
   "execution_count": 800,
   "id": "c4dded53-c7be-4bc1-b5ff-b420aab6bede",
   "metadata": {},
   "outputs": [],
   "source": [
    "sum=0\n",
    "grouped.size()\n",
    "for key, item in grouped:\n",
    "    g = grouped.get_group(key)\n",
    "    if g.size == 10:\n",
    "        abc = abc.append({'idDBLP' : g.get('id').iloc[1], 'idACM' : g.get('id').iloc[0]}, ignore_index=True)\n",
    "        #print(g.get('id').iloc[1])\n",
    "        "
   ]
  },
  {
   "cell_type": "code",
   "execution_count": 801,
   "id": "edf5902f-f985-4ec4-bc01-556b664c65c5",
   "metadata": {},
   "outputs": [],
   "source": [
    "lev = pd.DataFrame(columns=['idDBLP', 'idACM'])"
   ]
  },
  {
   "cell_type": "code",
   "execution_count": 802,
   "id": "2f34092a-f8f8-4269-9916-7edf18cb4cbc",
   "metadata": {},
   "outputs": [],
   "source": [
    "#compare = em.string_compare_levenshtein(C, 'title', 'title') \n",
    "#for key, item in grouped:\n",
    " #   g = grouped.get_group(key)\n",
    "  #  s = g.size\n",
    "   # if s > 5:\n",
    "    #    compare = em.string_compare_levenshtein(g, 'authors', 'authors')\n",
    "     #   if compare >= 0.7:\n",
    "      #      if s < 10:\n",
    "       #         lev = lev.append({'idDBLP' : g.get('id').iloc[1], 'idACM' : g.get('id').iloc[0]}, ignore_index=True)\n",
    "            \n",
    "        "
   ]
  },
  {
   "cell_type": "code",
   "execution_count": 803,
   "id": "79094879-2f48-4e0e-9297-fce3d7304272",
   "metadata": {},
   "outputs": [
    {
     "name": "stdout",
     "output_type": "stream",
     "text": [
      "                         idDBLP   idACM\n",
      "0     conf/vldb/HumborstadSHT97  671000\n",
      "1          conf/vldb/JohnsonS94  672996\n",
      "2       journals/sigmod/CoxEH96  245901\n",
      "3       conf/sigmod/LahiriJJC98  276366\n",
      "4          conf/vldb/DeenJNNW00  671702\n",
      "5    journals/vldb/VerykiosME03  775455\n",
      "6  journals/sigmod/LaenderRST02  565137\n",
      "7      journals/tods/KotidisR01  503100\n",
      "8    journals/sigmod/KeetonPH98  290602\n",
      "9           conf/vldb/PantiSG00  671693\n"
     ]
    }
   ],
   "source": [
    "print(abc.head(10))"
   ]
  },
  {
   "cell_type": "code",
   "execution_count": 804,
   "id": "17820951-b6f1-4826-a8e6-0b2a357e1338",
   "metadata": {},
   "outputs": [],
   "source": [
    "abc2 = abc['idACM'].apply(lambda x : str(x))"
   ]
  },
  {
   "cell_type": "code",
   "execution_count": 805,
   "id": "901171e2-0ee1-43e9-8b11-e3780c361679",
   "metadata": {},
   "outputs": [],
   "source": [
    "abc2 = abc['idDBLP'].apply(lambda x : str(x))"
   ]
  },
  {
   "cell_type": "code",
   "execution_count": 806,
   "id": "2f73182a-3e61-43d4-958b-227dc9d84c82",
   "metadata": {},
   "outputs": [],
   "source": [
    "#abc2.sort_values('idDBLP')"
   ]
  },
  {
   "cell_type": "code",
   "execution_count": 807,
   "id": "7aaee217-80b6-4542-b0fd-e44fd19b2709",
   "metadata": {},
   "outputs": [],
   "source": [
    "#abc2.to_csv(r'abc2.csv', encoding='utf-8', index=False)"
   ]
  },
  {
   "cell_type": "code",
   "execution_count": 808,
   "id": "1b1d04f2-40fd-42e0-8e52-06953dd8bc13",
   "metadata": {},
   "outputs": [],
   "source": [
    "#abc.to_csv(r'abc.csv', encoding='utf-8', index=False)"
   ]
  },
  {
   "cell_type": "code",
   "execution_count": 809,
   "id": "01ff6a49-116f-4b40-9c81-881c30ddde4d",
   "metadata": {},
   "outputs": [],
   "source": [
    "#perf = pd.read_csv(r'DBLP-ACM_perfectMapping.csv')"
   ]
  },
  {
   "cell_type": "code",
   "execution_count": 810,
   "id": "fc2d2f14-50e2-497e-8925-307957dc8194",
   "metadata": {},
   "outputs": [],
   "source": [
    "#perf['idDBLP'].nunique()"
   ]
  },
  {
   "cell_type": "code",
   "execution_count": 811,
   "id": "1d47e861-ce13-49df-8256-408447a071fd",
   "metadata": {},
   "outputs": [],
   "source": [
    "#perf['idACM'].nunique()"
   ]
  },
  {
   "cell_type": "code",
   "execution_count": 812,
   "id": "631e3aeb-a842-468d-99f2-f7ad2aa38728",
   "metadata": {},
   "outputs": [],
   "source": [
    "#perf['idDBLP'].count()"
   ]
  },
  {
   "cell_type": "markdown",
   "id": "51872619-f26d-4b3c-a113-d90f43e1248a",
   "metadata": {
    "tags": []
   },
   "source": [
    "# Blocking 2. way"
   ]
  },
  {
   "cell_type": "code",
   "execution_count": 813,
   "id": "3b3d953a-a468-4c3b-bf75-8a9c0d22485a",
   "metadata": {},
   "outputs": [],
   "source": [
    "#em.set_key(stacked, 'id')\n",
    "#em.to_csv_metadata(stacked, r'C:\\Users\\eetuj\\OneDrive - TUNI.fi\\DILA\\groupProject\\DILA_project/stacked_meta.csv')"
   ]
  },
  {
   "cell_type": "code",
   "execution_count": 814,
   "id": "73856208-e9e6-47fa-93b9-1114b49e0111",
   "metadata": {},
   "outputs": [],
   "source": [
    "#stack2 = em.read_csv_metadata(r'stacked_meta.csv')"
   ]
  },
  {
   "cell_type": "code",
   "execution_count": 815,
   "id": "3ba50e3f-6883-4dc2-ade4-78203e28d158",
   "metadata": {},
   "outputs": [],
   "source": [
    "#ACM = em.read_csv_metadata(r'ACM3_meta.csv', key='id')\n",
    "#DBLP = em.read_csv_metadata(r'DBLP3_meta.csv', key='id')"
   ]
  },
  {
   "cell_type": "code",
   "execution_count": 816,
   "id": "0588e103-f1b7-452b-b0ba-d137eae22ff4",
   "metadata": {},
   "outputs": [],
   "source": [
    "#b1 = em.AttrEquivalenceBlocker() # , 'title', 'authors', 'venue', 'year'"
   ]
  },
  {
   "cell_type": "code",
   "execution_count": 817,
   "id": "14ffab11-530d-4ab9-a48c-f2f10ebd5771",
   "metadata": {},
   "outputs": [],
   "source": [
    "#C1 = b1.block_tables(ACM, DBLP, 'title', 'title', \n",
    " #    l_output_attrs=['title', 'authors', 'venue', 'year'], \n",
    "  #   r_output_attrs=['title', 'authors', 'venue', 'year'], allow_missing=True)"
   ]
  },
  {
   "cell_type": "code",
   "execution_count": 818,
   "id": "66eac8e3-2788-431a-89f2-212b11ce2167",
   "metadata": {},
   "outputs": [],
   "source": [
    "indexer = recordlinkage.Index()\n",
    "indexer.block(['venue', 'year'])\n",
    "candidate_links = indexer.index(data_ACM, data_DBLP)"
   ]
  },
  {
   "cell_type": "code",
   "execution_count": 819,
   "id": "85d70280-9dc4-4a8a-875c-594c8a3a35d7",
   "metadata": {},
   "outputs": [
    {
     "name": "stdout",
     "output_type": "stream",
     "text": [
      "MultiIndex([(   0,    5),\n",
      "            (   0,   30),\n",
      "            (   0,   65),\n",
      "            (   0,  101),\n",
      "            (   0,  127),\n",
      "            (   0,  166),\n",
      "            (   0,  230),\n",
      "            (   0,  232),\n",
      "            (   0,  269),\n",
      "            (   0,  323),\n",
      "            ...\n",
      "            (2290, 1465),\n",
      "            (2290, 1562),\n",
      "            (2290, 1609),\n",
      "            (2290, 1637),\n",
      "            (2290, 1686),\n",
      "            (2290, 1798),\n",
      "            (2290, 1991),\n",
      "            (2290, 2135),\n",
      "            (2290, 2338),\n",
      "            (2290, 2511)],\n",
      "           length=156053)\n"
     ]
    }
   ],
   "source": [
    "#The blocks by index:\n",
    "print(candidate_links)"
   ]
  },
  {
   "cell_type": "code",
   "execution_count": 820,
   "id": "28f17a5a-ddbb-4052-b169-2774c30523c7",
   "metadata": {},
   "outputs": [
    {
     "data": {
      "text/plain": [
       "'compare_cl = recordlinkage.Compare()\\ncompare_cl.exact(\"venue\", \"venue\", label=\"venue\")\\ncompare_cl.string(\"title\", \"title\", method=\"levenshtein\", label=\"title\")\\ncompare_cl.exact(\"year\", \"year\", label=\"year\")\\ncompare_cl.string(\"authors\", \"authors\", method=\"levenshtein\", label=\"authors\")\\nfeatures = compare_cl.compute(candidate_links, data_ACM, data_DBLP)\\nprint(features)'"
      ]
     },
     "execution_count": 820,
     "metadata": {},
     "output_type": "execute_result"
    }
   ],
   "source": [
    "\"\"\"compare_cl = recordlinkage.Compare()\n",
    "compare_cl.exact(\"venue\", \"venue\", label=\"venue\")\n",
    "compare_cl.string(\"title\", \"title\", method=\"levenshtein\", label=\"title\")\n",
    "compare_cl.exact(\"year\", \"year\", label=\"year\")\n",
    "compare_cl.string(\"authors\", \"authors\", method=\"levenshtein\", label=\"authors\")\n",
    "features = compare_cl.compute(candidate_links, data_ACM, data_DBLP)\n",
    "print(features)\"\"\""
   ]
  },
  {
   "cell_type": "code",
   "execution_count": 821,
   "id": "519cb072-06c5-40e0-a147-b8765ec65b9c",
   "metadata": {},
   "outputs": [],
   "source": [
    "#Jaro-Winkler distance between ACM-DBLP venues and authors\n",
    "compare_cl = recordlinkage.Compare()\n",
    "compare_cl.exact(\"venue\", \"venue\", label=\"venue\")\n",
    "compare_cl.string(\"title\", \"title\", method=\"jarowinkler\", label=\"title\")\n",
    "compare_cl.exact(\"year\", \"year\", label=\"year\")\n",
    "compare_cl.string(\"authors\", \"authors\", method=\"jarowinkler\", label=\"authors\")\n",
    "features = compare_cl.compute(candidate_links, data_ACM, data_DBLP)"
   ]
  },
  {
   "cell_type": "code",
   "execution_count": 822,
   "id": "8f87c424-e10d-4c3c-862f-d4dc103aeda7",
   "metadata": {},
   "outputs": [
    {
     "data": {
      "text/html": [
       "<div>\n",
       "<style scoped>\n",
       "    .dataframe tbody tr th:only-of-type {\n",
       "        vertical-align: middle;\n",
       "    }\n",
       "\n",
       "    .dataframe tbody tr th {\n",
       "        vertical-align: top;\n",
       "    }\n",
       "\n",
       "    .dataframe thead th {\n",
       "        text-align: right;\n",
       "    }\n",
       "</style>\n",
       "<table border=\"1\" class=\"dataframe\">\n",
       "  <thead>\n",
       "    <tr style=\"text-align: right;\">\n",
       "      <th></th>\n",
       "      <th></th>\n",
       "      <th>venue</th>\n",
       "      <th>title</th>\n",
       "      <th>year</th>\n",
       "      <th>authors</th>\n",
       "    </tr>\n",
       "  </thead>\n",
       "  <tbody>\n",
       "    <tr>\n",
       "      <th rowspan=\"5\" valign=\"top\">0</th>\n",
       "      <th>5</th>\n",
       "      <td>1</td>\n",
       "      <td>0.641764</td>\n",
       "      <td>1</td>\n",
       "      <td>0.545622</td>\n",
       "    </tr>\n",
       "    <tr>\n",
       "      <th>30</th>\n",
       "      <td>1</td>\n",
       "      <td>0.675314</td>\n",
       "      <td>1</td>\n",
       "      <td>0.572156</td>\n",
       "    </tr>\n",
       "    <tr>\n",
       "      <th>65</th>\n",
       "      <td>1</td>\n",
       "      <td>0.663559</td>\n",
       "      <td>1</td>\n",
       "      <td>0.376344</td>\n",
       "    </tr>\n",
       "    <tr>\n",
       "      <th>101</th>\n",
       "      <td>1</td>\n",
       "      <td>0.641602</td>\n",
       "      <td>1</td>\n",
       "      <td>0.534008</td>\n",
       "    </tr>\n",
       "    <tr>\n",
       "      <th>127</th>\n",
       "      <td>1</td>\n",
       "      <td>0.543363</td>\n",
       "      <td>1</td>\n",
       "      <td>0.505615</td>\n",
       "    </tr>\n",
       "    <tr>\n",
       "      <th>...</th>\n",
       "      <th>...</th>\n",
       "      <td>...</td>\n",
       "      <td>...</td>\n",
       "      <td>...</td>\n",
       "      <td>...</td>\n",
       "    </tr>\n",
       "    <tr>\n",
       "      <th rowspan=\"5\" valign=\"top\">2290</th>\n",
       "      <th>1798</th>\n",
       "      <td>1</td>\n",
       "      <td>0.538269</td>\n",
       "      <td>1</td>\n",
       "      <td>0.558967</td>\n",
       "    </tr>\n",
       "    <tr>\n",
       "      <th>1991</th>\n",
       "      <td>1</td>\n",
       "      <td>0.585738</td>\n",
       "      <td>1</td>\n",
       "      <td>0.720678</td>\n",
       "    </tr>\n",
       "    <tr>\n",
       "      <th>2135</th>\n",
       "      <td>1</td>\n",
       "      <td>0.550294</td>\n",
       "      <td>1</td>\n",
       "      <td>0.596184</td>\n",
       "    </tr>\n",
       "    <tr>\n",
       "      <th>2338</th>\n",
       "      <td>1</td>\n",
       "      <td>0.507937</td>\n",
       "      <td>1</td>\n",
       "      <td>0.639254</td>\n",
       "    </tr>\n",
       "    <tr>\n",
       "      <th>2511</th>\n",
       "      <td>1</td>\n",
       "      <td>0.526685</td>\n",
       "      <td>1</td>\n",
       "      <td>0.619514</td>\n",
       "    </tr>\n",
       "  </tbody>\n",
       "</table>\n",
       "<p>156053 rows × 4 columns</p>\n",
       "</div>"
      ],
      "text/plain": [
       "           venue     title  year   authors\n",
       "0    5         1  0.641764     1  0.545622\n",
       "     30        1  0.675314     1  0.572156\n",
       "     65        1  0.663559     1  0.376344\n",
       "     101       1  0.641602     1  0.534008\n",
       "     127       1  0.543363     1  0.505615\n",
       "...          ...       ...   ...       ...\n",
       "2290 1798      1  0.538269     1  0.558967\n",
       "     1991      1  0.585738     1  0.720678\n",
       "     2135      1  0.550294     1  0.596184\n",
       "     2338      1  0.507937     1  0.639254\n",
       "     2511      1  0.526685     1  0.619514\n",
       "\n",
       "[156053 rows x 4 columns]"
      ]
     },
     "execution_count": 822,
     "metadata": {},
     "output_type": "execute_result"
    }
   ],
   "source": [
    "features"
   ]
  },
  {
   "cell_type": "code",
   "execution_count": 823,
   "id": "fc653d6b-45a2-408d-b37b-d4528f83b52c",
   "metadata": {
    "tags": []
   },
   "outputs": [],
   "source": [
    "matches = features[features[['title','authors']].sum(axis=1)>= 1.56] \n",
    "#1.56 threshold was determined through trying different values"
   ]
  },
  {
   "cell_type": "code",
   "execution_count": 824,
   "id": "ad1c46fe-f429-4ff5-91ca-8d408bb4fa27",
   "metadata": {},
   "outputs": [],
   "source": [
    "matches.index.names = ['ACM','DBLP']\n",
    "matches=matches.reset_index()\n",
    "matches_new=matches.loc[matches.groupby(['ACM'])['DBLP'].idxmax()]\n",
    "predictions=matches_new.set_index(['ACM', 'DBLP'])"
   ]
  },
  {
   "cell_type": "code",
   "execution_count": 825,
   "id": "49c09a56-9dee-4e75-aaaf-0d446b177570",
   "metadata": {},
   "outputs": [],
   "source": [
    "predictions.to_csv('predictions.csv')"
   ]
  },
  {
   "cell_type": "code",
   "execution_count": 826,
   "id": "21c275f7-d55a-4bf1-9a12-bbc26056c9b3",
   "metadata": {},
   "outputs": [],
   "source": [
    "perf_match = pd.read_csv('DBLP-ACM_perfectMapping.csv', header=0, encoding=\"utf-8\")"
   ]
  },
  {
   "cell_type": "code",
   "execution_count": 827,
   "id": "4f5c49e8-ba73-4b14-8811-59e4cca1eb33",
   "metadata": {},
   "outputs": [
    {
     "name": "stdout",
     "output_type": "stream",
     "text": [
      "      idACM  idDBLP\n",
      "0       301     143\n",
      "1       306    1530\n",
      "2       292     310\n",
      "3       289    2090\n",
      "4       308    1744\n",
      "...     ...     ...\n",
      "2219    597     781\n",
      "2220   1736    2004\n",
      "2221    523    2260\n",
      "2222    606     178\n",
      "2223    925    2368\n",
      "\n",
      "[2224 rows x 2 columns]\n"
     ]
    }
   ],
   "source": [
    "df1 = data_ACM['id'].to_dict()\n",
    "df2 = data_DBLP['id'].to_dict()\n",
    "df1_rev = {y: x for x, y in df1.items()}\n",
    "df2_rev = {y: x for x, y in df2.items()}\n",
    "perf_match['idACM'] = perf_match['idACM'].map(df1_rev)\n",
    "perf_match['idDBLP'] = perf_match['idDBLP'].map(df2_rev)\n",
    "perf_match = perf_match[['idACM', 'idDBLP']]\n",
    "print(perf_match)\n",
    "match_true = pd.MultiIndex.from_frame(perf_match)"
   ]
  },
  {
   "cell_type": "code",
   "execution_count": 828,
   "id": "3700da96-8074-4ebf-a18d-36840ff4d993",
   "metadata": {},
   "outputs": [],
   "source": [
    "f_score=recordlinkage.fscore(match_true, predictions.index)"
   ]
  },
  {
   "cell_type": "code",
   "execution_count": 829,
   "id": "ca755fb0-bc24-4126-b85c-559773cb8530",
   "metadata": {},
   "outputs": [
    {
     "name": "stdout",
     "output_type": "stream",
     "text": [
      "0.942464477055672\n"
     ]
    }
   ],
   "source": [
    "print(f_score)"
   ]
  },
  {
   "cell_type": "markdown",
   "id": "3d80dd8e-41a9-40f3-a627-31721c7bf712",
   "metadata": {
    "tags": []
   },
   "source": [
    "# Task 2"
   ]
  },
  {
   "cell_type": "markdown",
   "id": "d8867f1e-9965-4f16-9706-0c65e860a01f",
   "metadata": {},
   "source": [
    "First we add label 1 = match, 0 = no match 'label'"
   ]
  },
  {
   "cell_type": "code",
   "execution_count": 830,
   "id": "53cc6fae-9d9c-4aaf-bbbd-d00db2e08685",
   "metadata": {},
   "outputs": [],
   "source": [
    "features['label'] = 0"
   ]
  },
  {
   "cell_type": "code",
   "execution_count": 831,
   "id": "ac348d6e-b171-46f9-8287-002c0b52029c",
   "metadata": {},
   "outputs": [],
   "source": [
    "for i in predictions.index.tolist():\n",
    "    features.loc[i, 'label'] = 1"
   ]
  },
  {
   "cell_type": "code",
   "execution_count": 832,
   "id": "29a9545c-f637-4768-b20a-fc4b9b06c3fd",
   "metadata": {},
   "outputs": [],
   "source": [
    "features.to_csv('labeled_data.csv')"
   ]
  },
  {
   "cell_type": "code",
   "execution_count": 833,
   "id": "2fa66a59-7569-4c34-909c-4e3634931dbd",
   "metadata": {},
   "outputs": [
    {
     "data": {
      "text/html": [
       "<div>\n",
       "<style scoped>\n",
       "    .dataframe tbody tr th:only-of-type {\n",
       "        vertical-align: middle;\n",
       "    }\n",
       "\n",
       "    .dataframe tbody tr th {\n",
       "        vertical-align: top;\n",
       "    }\n",
       "\n",
       "    .dataframe thead th {\n",
       "        text-align: right;\n",
       "    }\n",
       "</style>\n",
       "<table border=\"1\" class=\"dataframe\">\n",
       "  <thead>\n",
       "    <tr style=\"text-align: right;\">\n",
       "      <th></th>\n",
       "      <th></th>\n",
       "      <th>venue</th>\n",
       "      <th>title</th>\n",
       "      <th>year</th>\n",
       "      <th>authors</th>\n",
       "      <th>label</th>\n",
       "    </tr>\n",
       "  </thead>\n",
       "  <tbody>\n",
       "    <tr>\n",
       "      <th rowspan=\"5\" valign=\"top\">0</th>\n",
       "      <th>5</th>\n",
       "      <td>1</td>\n",
       "      <td>0.641764</td>\n",
       "      <td>1</td>\n",
       "      <td>0.545622</td>\n",
       "      <td>0</td>\n",
       "    </tr>\n",
       "    <tr>\n",
       "      <th>30</th>\n",
       "      <td>1</td>\n",
       "      <td>0.675314</td>\n",
       "      <td>1</td>\n",
       "      <td>0.572156</td>\n",
       "      <td>0</td>\n",
       "    </tr>\n",
       "    <tr>\n",
       "      <th>65</th>\n",
       "      <td>1</td>\n",
       "      <td>0.663559</td>\n",
       "      <td>1</td>\n",
       "      <td>0.376344</td>\n",
       "      <td>0</td>\n",
       "    </tr>\n",
       "    <tr>\n",
       "      <th>101</th>\n",
       "      <td>1</td>\n",
       "      <td>0.641602</td>\n",
       "      <td>1</td>\n",
       "      <td>0.534008</td>\n",
       "      <td>0</td>\n",
       "    </tr>\n",
       "    <tr>\n",
       "      <th>127</th>\n",
       "      <td>1</td>\n",
       "      <td>0.543363</td>\n",
       "      <td>1</td>\n",
       "      <td>0.505615</td>\n",
       "      <td>0</td>\n",
       "    </tr>\n",
       "    <tr>\n",
       "      <th>...</th>\n",
       "      <th>...</th>\n",
       "      <td>...</td>\n",
       "      <td>...</td>\n",
       "      <td>...</td>\n",
       "      <td>...</td>\n",
       "      <td>...</td>\n",
       "    </tr>\n",
       "    <tr>\n",
       "      <th rowspan=\"5\" valign=\"top\">2290</th>\n",
       "      <th>1798</th>\n",
       "      <td>1</td>\n",
       "      <td>0.538269</td>\n",
       "      <td>1</td>\n",
       "      <td>0.558967</td>\n",
       "      <td>0</td>\n",
       "    </tr>\n",
       "    <tr>\n",
       "      <th>1991</th>\n",
       "      <td>1</td>\n",
       "      <td>0.585738</td>\n",
       "      <td>1</td>\n",
       "      <td>0.720678</td>\n",
       "      <td>0</td>\n",
       "    </tr>\n",
       "    <tr>\n",
       "      <th>2135</th>\n",
       "      <td>1</td>\n",
       "      <td>0.550294</td>\n",
       "      <td>1</td>\n",
       "      <td>0.596184</td>\n",
       "      <td>0</td>\n",
       "    </tr>\n",
       "    <tr>\n",
       "      <th>2338</th>\n",
       "      <td>1</td>\n",
       "      <td>0.507937</td>\n",
       "      <td>1</td>\n",
       "      <td>0.639254</td>\n",
       "      <td>0</td>\n",
       "    </tr>\n",
       "    <tr>\n",
       "      <th>2511</th>\n",
       "      <td>1</td>\n",
       "      <td>0.526685</td>\n",
       "      <td>1</td>\n",
       "      <td>0.619514</td>\n",
       "      <td>0</td>\n",
       "    </tr>\n",
       "  </tbody>\n",
       "</table>\n",
       "<p>156053 rows × 5 columns</p>\n",
       "</div>"
      ],
      "text/plain": [
       "           venue     title  year   authors  label\n",
       "0    5         1  0.641764     1  0.545622      0\n",
       "     30        1  0.675314     1  0.572156      0\n",
       "     65        1  0.663559     1  0.376344      0\n",
       "     101       1  0.641602     1  0.534008      0\n",
       "     127       1  0.543363     1  0.505615      0\n",
       "...          ...       ...   ...       ...    ...\n",
       "2290 1798      1  0.538269     1  0.558967      0\n",
       "     1991      1  0.585738     1  0.720678      0\n",
       "     2135      1  0.550294     1  0.596184      0\n",
       "     2338      1  0.507937     1  0.639254      0\n",
       "     2511      1  0.526685     1  0.619514      0\n",
       "\n",
       "[156053 rows x 5 columns]"
      ]
     },
     "execution_count": 833,
     "metadata": {},
     "output_type": "execute_result"
    }
   ],
   "source": [
    "features"
   ]
  },
  {
   "cell_type": "markdown",
   "id": "d0d42702-bbb9-4bc2-acc7-3fd85ecf417d",
   "metadata": {},
   "source": [
    "Then we create the machine learning models:"
   ]
  },
  {
   "cell_type": "code",
   "execution_count": 834,
   "id": "a27bc65c-ed66-4d7a-91a9-671fc034a2d9",
   "metadata": {},
   "outputs": [
    {
     "name": "stdout",
     "output_type": "stream",
     "text": [
      "436948 187264 109237 46816\n"
     ]
    }
   ],
   "source": [
    "X_train, X_test, y_train, y_test = train_test_split(features[['title', 'authors', 'venue', 'year']],\n",
    "                                        features['label'], test_size=0.3, random_state=100)\n",
    "print(X_train.size, X_test.size, y_train.size, y_test.size)"
   ]
  },
  {
   "cell_type": "code",
   "execution_count": 835,
   "id": "9b748100-3116-450d-9fdf-60cb2998b3b4",
   "metadata": {},
   "outputs": [],
   "source": [
    "reg = LogisticRegression()"
   ]
  },
  {
   "cell_type": "code",
   "execution_count": 836,
   "id": "b5bd86a8-d660-4369-a277-35bd0287f705",
   "metadata": {},
   "outputs": [],
   "source": [
    "mod = reg.fit(X_train, y_train)\n",
    "mod2 = mod.predict(X_test)\n",
    "result_log = f1_score(y_test, mod2)"
   ]
  },
  {
   "cell_type": "code",
   "execution_count": 837,
   "id": "fe28211d-1988-4bf4-9ec9-e576545c79f0",
   "metadata": {},
   "outputs": [
    {
     "name": "stdout",
     "output_type": "stream",
     "text": [
      "0.9720930232558139\n"
     ]
    }
   ],
   "source": [
    "print(result_log)"
   ]
  },
  {
   "cell_type": "code",
   "execution_count": 838,
   "id": "b9cc5a05-3c23-47d3-86ed-99739991d112",
   "metadata": {},
   "outputs": [],
   "source": [
    "clf = svm.SVC()"
   ]
  },
  {
   "cell_type": "code",
   "execution_count": 839,
   "id": "6433bf9a-fde8-4204-998c-544dbee6bb10",
   "metadata": {},
   "outputs": [
    {
     "data": {
      "text/plain": [
       "SVC()"
      ]
     },
     "execution_count": 839,
     "metadata": {},
     "output_type": "execute_result"
    }
   ],
   "source": [
    "clf.fit(X_train, y_train)"
   ]
  },
  {
   "cell_type": "code",
   "execution_count": 840,
   "id": "e8eb781c-9ed3-4f3c-98a2-44aadd4abd21",
   "metadata": {},
   "outputs": [],
   "source": [
    "svm = clf.fit(X_train, y_train)\n",
    "svm2 = svm.predict(X_test)\n",
    "result_svm = f1_score(y_test, svm2)"
   ]
  },
  {
   "cell_type": "code",
   "execution_count": 841,
   "id": "47416fd9-a4fb-49fc-abaa-43083808ecd1",
   "metadata": {},
   "outputs": [
    {
     "name": "stdout",
     "output_type": "stream",
     "text": [
      "0.9777094542659492\n"
     ]
    }
   ],
   "source": [
    "print(result_svm)"
   ]
  },
  {
   "cell_type": "code",
   "execution_count": 842,
   "id": "62228cc5-5e8b-4e5b-89bb-7e7d9d6d2d2b",
   "metadata": {},
   "outputs": [
    {
     "name": "stdout",
     "output_type": "stream",
     "text": [
      "0.9993805536568694\n"
     ]
    }
   ],
   "source": [
    "print(clf.score(X_test, y_test))"
   ]
  },
  {
   "cell_type": "code",
   "execution_count": null,
   "id": "1a8b9726-b747-48f5-8102-9341fac7dd34",
   "metadata": {},
   "outputs": [],
   "source": [
    "param_grid = {'C': [1, 5, 10], 'kernel': ['linear', 'poly','rbf'],'degree':[2,3],'gamma':[0.1,1]}\n",
    "grid_search = GridSearchCV(clf, param_grid, cv=5)\n",
    "grid_search.fit(X_train, y_train)"
   ]
  },
  {
   "cell_type": "code",
   "execution_count": null,
   "id": "51626309-9a4b-49ce-9eb3-ee87e5c5c42b",
   "metadata": {},
   "outputs": [],
   "source": [
    "print(\"best parameters: \", grid_search.best_params_)"
   ]
  },
  {
   "cell_type": "code",
   "execution_count": null,
   "id": "705e621b-af69-4d79-8bfa-04ca420ecb6a",
   "metadata": {},
   "outputs": [],
   "source": [
    "#best = svm.SVC(C=10, degree=3, gamma=1, kernel='poly')"
   ]
  },
  {
   "cell_type": "code",
   "execution_count": null,
   "id": "228e37a9-efcb-461b-8c70-6150b2ff2e03",
   "metadata": {},
   "outputs": [],
   "source": []
  }
 ],
 "metadata": {
  "kernelspec": {
   "display_name": "Python 3 (ipykernel)",
   "language": "python",
   "name": "python3"
  },
  "language_info": {
   "codemirror_mode": {
    "name": "ipython",
    "version": 3
   },
   "file_extension": ".py",
   "mimetype": "text/x-python",
   "name": "python",
   "nbconvert_exporter": "python",
   "pygments_lexer": "ipython3",
   "version": "3.9.7"
  }
 },
 "nbformat": 4,
 "nbformat_minor": 5
}
